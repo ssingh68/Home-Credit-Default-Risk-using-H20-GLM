{
 "cells": [
  {
   "cell_type": "markdown",
   "metadata": {},
   "source": [
    "# Importing Libraries"
   ]
  },
  {
   "cell_type": "code",
   "execution_count": 1,
   "metadata": {},
   "outputs": [],
   "source": [
    "import pandas as pd\n",
    "pd.set_option('display.max_rows', 500)\n",
    "pd.set_option('display.max_columns', 500)\n",
    "pd.set_option('display.width', 1000)\n",
    "pd.options.mode.chained_assignment = None\n",
    "import numpy as np\n",
    "import matplotlib.pyplot as plt\n",
    "import seaborn as sns\n",
    "from sklearn.model_selection import train_test_split\n",
    "from sklearn.linear_model import LogisticRegression\n",
    "from sklearn.metrics import accuracy_score\n",
    "from sklearn.metrics import confusion_matrix\n",
    "from sklearn.metrics import f1_score\n",
    "from sklearn.metrics import classification_report\n",
    "from sklearn import metrics\n",
    "from sklearn.metrics import roc_curve\n",
    "from sklearn.ensemble import RandomForestClassifier\n",
    "from sklearn.datasets import make_classification\n",
    "from sklearn.ensemble import ExtraTreesClassifier\n",
    "from sklearn.model_selection import GridSearchCV\n",
    "from sklearn.preprocessing import LabelEncoder\n",
    "from sklearn import preprocessing\n",
    "from sklearn.preprocessing import StandardScaler\n",
    "from sklearn.decomposition import PCA\n",
    "from pandasql import sqldf\n",
    "import lightgbm as lgb\n",
    "import h2o\n",
    "from h2o.estimators.glm import H2OGeneralizedLinearEstimator\n",
    "from sklearn.naive_bayes import MultinomialNB\n",
    "from sklearn.naive_bayes import GaussianNB\n",
    "from sklearn.utils import resample\n",
    "import xgboost as xgb\n",
    "from xgboost.sklearn import XGBClassifier\n",
    "from scipy.stats import uniform, randint\n",
    "from sklearn.neighbors import KNeighborsClassifier \n",
    "import more_itertools\n",
    "from sklearn.feature_selection import SelectKBest\n",
    "from sklearn.feature_selection import chi2\n",
    "from scipy.stats import kendalltau"
   ]
  },
  {
   "cell_type": "markdown",
   "metadata": {},
   "source": [
    "# Reading Dataframe"
   ]
  },
  {
   "cell_type": "code",
   "execution_count": 2,
   "metadata": {},
   "outputs": [],
   "source": [
    "Train = pd.read_csv('Desktop/Home_Credit/application_train.csv')\n",
    "Test = pd.read_csv('Desktop/Home_Credit/Application_test.csv')"
   ]
  },
  {
   "cell_type": "code",
   "execution_count": 3,
   "metadata": {},
   "outputs": [
    {
     "data": {
      "text/plain": [
       "(307511, 122)"
      ]
     },
     "execution_count": 3,
     "metadata": {},
     "output_type": "execute_result"
    }
   ],
   "source": [
    "Train.shape"
   ]
  },
  {
   "cell_type": "code",
   "execution_count": 4,
   "metadata": {},
   "outputs": [
    {
     "data": {
      "text/plain": [
       "(48744, 121)"
      ]
     },
     "execution_count": 4,
     "metadata": {},
     "output_type": "execute_result"
    }
   ],
   "source": [
    "Test.shape"
   ]
  },
  {
   "cell_type": "markdown",
   "metadata": {},
   "source": [
    "# Data Pre Processing"
   ]
  },
  {
   "cell_type": "code",
   "execution_count": 5,
   "metadata": {},
   "outputs": [],
   "source": [
    "All = pd.merge(Train,Test,how='outer')"
   ]
  },
  {
   "cell_type": "code",
   "execution_count": 6,
   "metadata": {},
   "outputs": [
    {
     "data": {
      "text/plain": [
       "(356255, 122)"
      ]
     },
     "execution_count": 6,
     "metadata": {},
     "output_type": "execute_result"
    }
   ],
   "source": [
    "All.shape"
   ]
  },
  {
   "cell_type": "markdown",
   "metadata": {},
   "source": [
    "# Dealing with Numerical Columns"
   ]
  },
  {
   "cell_type": "code",
   "execution_count": 7,
   "metadata": {},
   "outputs": [],
   "source": [
    "for x in All['CNT_CHILDREN']:\n",
    "    if x >6:\n",
    "        All['CNT_CHILDREN'].replace({x: np.nan}, inplace = True)"
   ]
  },
  {
   "cell_type": "code",
   "execution_count": 8,
   "metadata": {},
   "outputs": [],
   "source": [
    "All['DAYS_BIRTH'] = All['DAYS_BIRTH']/-365\n",
    "All[\"DAYS_EMPLOYED\"] = All[\"DAYS_EMPLOYED\"].replace(365243, np.nan)\n",
    "All['DAYS_EMPLOYED'] = All['DAYS_EMPLOYED']/-365\n",
    "All['DAYS_ID_PUBLISH'] = All['DAYS_ID_PUBLISH']/-365\n",
    "All['REGION_RATING_CLIENT_W_CITY'] = All['REGION_RATING_CLIENT_W_CITY'].replace(-1, 1)"
   ]
  },
  {
   "cell_type": "code",
   "execution_count": 9,
   "metadata": {},
   "outputs": [],
   "source": [
    "All['DAYS_REGISTRATION'] = All['DAYS_REGISTRATION']/-365\n",
    "All['DAYS_LAST_PHONE_CHANGE'] = All['DAYS_LAST_PHONE_CHANGE']/-365"
   ]
  },
  {
   "cell_type": "code",
   "execution_count": 10,
   "metadata": {},
   "outputs": [],
   "source": [
    "for x in All['OWN_CAR_AGE']:\n",
    "    if x >60:\n",
    "        All['OWN_CAR_AGE'].replace({x: np.nan}, inplace = True)"
   ]
  },
  {
   "cell_type": "code",
   "execution_count": 11,
   "metadata": {},
   "outputs": [],
   "source": [
    "for x in All['CNT_FAM_MEMBERS']:\n",
    "    if x >5:\n",
    "        All['CNT_FAM_MEMBERS'].replace({x: np.nan}, inplace = True)"
   ]
  },
  {
   "cell_type": "code",
   "execution_count": 12,
   "metadata": {},
   "outputs": [],
   "source": [
    "for x in All['OBS_30_CNT_SOCIAL_CIRCLE']:\n",
    "    if x >17:\n",
    "        All['OBS_30_CNT_SOCIAL_CIRCLE'].replace({x: np.nan}, inplace = True)"
   ]
  },
  {
   "cell_type": "code",
   "execution_count": 13,
   "metadata": {},
   "outputs": [],
   "source": [
    "for x in All['DEF_30_CNT_SOCIAL_CIRCLE']:\n",
    "    if x >5:\n",
    "        All['DEF_30_CNT_SOCIAL_CIRCLE'].replace({x: np.nan}, inplace = True)"
   ]
  },
  {
   "cell_type": "code",
   "execution_count": 14,
   "metadata": {},
   "outputs": [],
   "source": [
    "for x in All['OBS_60_CNT_SOCIAL_CIRCLE']:\n",
    "    if x >16:\n",
    "        All['OBS_60_CNT_SOCIAL_CIRCLE'].replace({x: np.nan}, inplace = True)"
   ]
  },
  {
   "cell_type": "code",
   "execution_count": 15,
   "metadata": {},
   "outputs": [],
   "source": [
    "for x in All['DEF_60_CNT_SOCIAL_CIRCLE']:\n",
    "    if x >4:\n",
    "        All['DEF_60_CNT_SOCIAL_CIRCLE'].replace({x: np.nan}, inplace = True)"
   ]
  },
  {
   "cell_type": "code",
   "execution_count": 16,
   "metadata": {},
   "outputs": [],
   "source": [
    "for x in All['AMT_REQ_CREDIT_BUREAU_HOUR']:\n",
    "    if x >1:\n",
    "        All['AMT_REQ_CREDIT_BUREAU_HOUR'].replace({x: np.nan}, inplace = True)"
   ]
  },
  {
   "cell_type": "code",
   "execution_count": 17,
   "metadata": {},
   "outputs": [],
   "source": [
    "for x in All['AMT_REQ_CREDIT_BUREAU_DAY']:\n",
    "    if x >2:\n",
    "        All['AMT_REQ_CREDIT_BUREAU_DAY'].replace({x: np.nan}, inplace = True)"
   ]
  },
  {
   "cell_type": "code",
   "execution_count": 18,
   "metadata": {},
   "outputs": [],
   "source": [
    "for x in All['AMT_REQ_CREDIT_BUREAU_WEEK']:\n",
    "    if x >2:\n",
    "        All['AMT_REQ_CREDIT_BUREAU_WEEK'].replace({x: np.nan}, inplace = True)"
   ]
  },
  {
   "cell_type": "code",
   "execution_count": 19,
   "metadata": {},
   "outputs": [],
   "source": [
    "for x in All['AMT_REQ_CREDIT_BUREAU_MON']:\n",
    "    if x >5:\n",
    "        All['AMT_REQ_CREDIT_BUREAU_MON'].replace({x: np.nan}, inplace = True)"
   ]
  },
  {
   "cell_type": "code",
   "execution_count": 20,
   "metadata": {},
   "outputs": [],
   "source": [
    "for x in All['AMT_REQ_CREDIT_BUREAU_QRT']:\n",
    "    if x >5:\n",
    "        All['AMT_REQ_CREDIT_BUREAU_QRT'].replace({x: np.nan}, inplace = True)"
   ]
  },
  {
   "cell_type": "code",
   "execution_count": 21,
   "metadata": {},
   "outputs": [],
   "source": [
    "for x in All['AMT_REQ_CREDIT_BUREAU_YEAR']:\n",
    "    if x >10:\n",
    "        All['AMT_REQ_CREDIT_BUREAU_YEAR'].replace({x: np.nan}, inplace = True)"
   ]
  },
  {
   "cell_type": "markdown",
   "metadata": {},
   "source": [
    "# Dealing with Categorical Columns"
   ]
  },
  {
   "cell_type": "code",
   "execution_count": 22,
   "metadata": {},
   "outputs": [
    {
     "data": {
      "text/plain": [
       "NAME_CONTRACT_TYPE             2\n",
       "CODE_GENDER                    3\n",
       "FLAG_OWN_CAR                   2\n",
       "FLAG_OWN_REALTY                2\n",
       "NAME_TYPE_SUITE                7\n",
       "NAME_INCOME_TYPE               8\n",
       "NAME_EDUCATION_TYPE            5\n",
       "NAME_FAMILY_STATUS             6\n",
       "NAME_HOUSING_TYPE              6\n",
       "OCCUPATION_TYPE               18\n",
       "WEEKDAY_APPR_PROCESS_START     7\n",
       "ORGANIZATION_TYPE             58\n",
       "FONDKAPREMONT_MODE             4\n",
       "HOUSETYPE_MODE                 3\n",
       "WALLSMATERIAL_MODE             7\n",
       "EMERGENCYSTATE_MODE            2\n",
       "dtype: int64"
      ]
     },
     "execution_count": 22,
     "metadata": {},
     "output_type": "execute_result"
    }
   ],
   "source": [
    "All.select_dtypes('object').apply(pd.Series.nunique, axis = 0)"
   ]
  },
  {
   "cell_type": "code",
   "execution_count": 23,
   "metadata": {},
   "outputs": [],
   "source": [
    "All['CODE_GENDER'] = All['CODE_GENDER'].replace('XNA', np.nan)\n",
    "All['NAME_FAMILY_STATUS'] = All['NAME_FAMILY_STATUS'].replace('Unknown', np.nan)"
   ]
  },
  {
   "cell_type": "code",
   "execution_count": 24,
   "metadata": {},
   "outputs": [],
   "source": [
    "All.CODE_GENDER = All.CODE_GENDER.replace('F',0)\n",
    "All.CODE_GENDER = All.CODE_GENDER.replace('M',1)\n",
    "le = LabelEncoder()\n",
    "le.fit(All.NAME_CONTRACT_TYPE)\n",
    "All.NAME_CONTRACT_TYPE = le.transform(All.NAME_CONTRACT_TYPE)\n",
    "le.fit(All.FLAG_OWN_CAR)\n",
    "All.FLAG_OWN_CAR = le.transform(All.FLAG_OWN_CAR)\n",
    "le.fit(All.FLAG_OWN_REALTY)\n",
    "All.FLAG_OWN_REALTY = le.transform(All.FLAG_OWN_REALTY)\n",
    "All.EMERGENCYSTATE_MODE = le.fit_transform(All.EMERGENCYSTATE_MODE.astype(str))"
   ]
  },
  {
   "cell_type": "code",
   "execution_count": 25,
   "metadata": {},
   "outputs": [],
   "source": [
    "All = pd.get_dummies(All)"
   ]
  },
  {
   "cell_type": "markdown",
   "metadata": {},
   "source": [
    "# Dealing with Missing Values"
   ]
  },
  {
   "cell_type": "code",
   "execution_count": 26,
   "metadata": {
    "scrolled": true
   },
   "outputs": [
    {
     "data": {
      "text/plain": [
       "SK_ID_CURR                                            0.000000\n",
       "TARGET                                               13.682334\n",
       "NAME_CONTRACT_TYPE                                    0.000000\n",
       "CODE_GENDER                                           0.001123\n",
       "FLAG_OWN_CAR                                          0.000000\n",
       "FLAG_OWN_REALTY                                       0.000000\n",
       "CNT_CHILDREN                                          0.007860\n",
       "AMT_INCOME_TOTAL                                      0.000000\n",
       "AMT_CREDIT                                            0.000000\n",
       "AMT_ANNUITY                                           0.010105\n",
       "AMT_GOODS_PRICE                                       0.078034\n",
       "REGION_POPULATION_RELATIVE                            0.000000\n",
       "DAYS_BIRTH                                            0.000000\n",
       "DAYS_EMPLOYED                                        18.146552\n",
       "DAYS_REGISTRATION                                     0.000000\n",
       "DAYS_ID_PUBLISH                                       0.000000\n",
       "OWN_CAR_AGE                                          67.098006\n",
       "FLAG_MOBIL                                            0.000000\n",
       "FLAG_EMP_PHONE                                        0.000000\n",
       "FLAG_WORK_PHONE                                       0.000000\n",
       "FLAG_CONT_MOBILE                                      0.000000\n",
       "FLAG_PHONE                                            0.000000\n",
       "FLAG_EMAIL                                            0.000000\n",
       "CNT_FAM_MEMBERS                                       0.167015\n",
       "REGION_RATING_CLIENT                                  0.000000\n",
       "REGION_RATING_CLIENT_W_CITY                           0.000000\n",
       "HOUR_APPR_PROCESS_START                               0.000000\n",
       "REG_REGION_NOT_LIVE_REGION                            0.000000\n",
       "REG_REGION_NOT_WORK_REGION                            0.000000\n",
       "LIVE_REGION_NOT_WORK_REGION                           0.000000\n",
       "REG_CITY_NOT_LIVE_CITY                                0.000000\n",
       "REG_CITY_NOT_WORK_CITY                                0.000000\n",
       "LIVE_CITY_NOT_WORK_CITY                               0.000000\n",
       "EXT_SOURCE_1                                         54.430113\n",
       "EXT_SOURCE_2                                          0.187506\n",
       "EXT_SOURCE_3                                         19.545831\n",
       "APARTMENTS_AVG                                       50.511010\n",
       "BASEMENTAREA_AVG                                     58.268375\n",
       "YEARS_BEGINEXPLUATATION_AVG                          48.522266\n",
       "YEARS_BUILD_AVG                                      66.330578\n",
       "COMMONAREA_AVG                                       69.714109\n",
       "ELEVATORS_AVG                                        53.074343\n",
       "ENTRANCES_AVG                                        50.078455\n",
       "FLOORSMAX_AVG                                        49.498533\n",
       "FLOORSMIN_AVG                                        67.678489\n",
       "LANDAREA_AVG                                         59.183450\n",
       "LIVINGAPARTMENTS_AVG                                 68.203674\n",
       "LIVINGAREA_AVG                                       49.936703\n",
       "NONLIVINGAPARTMENTS_AVG                              69.293343\n",
       "NONLIVINGAREA_AVG                                    54.951088\n",
       "APARTMENTS_MODE                                      50.511010\n",
       "BASEMENTAREA_MODE                                    58.268375\n",
       "YEARS_BEGINEXPLUATATION_MODE                         48.522266\n",
       "YEARS_BUILD_MODE                                     66.330578\n",
       "COMMONAREA_MODE                                      69.714109\n",
       "ELEVATORS_MODE                                       53.074343\n",
       "ENTRANCES_MODE                                       50.078455\n",
       "FLOORSMAX_MODE                                       49.498533\n",
       "FLOORSMIN_MODE                                       67.678489\n",
       "LANDAREA_MODE                                        59.183450\n",
       "LIVINGAPARTMENTS_MODE                                68.203674\n",
       "LIVINGAREA_MODE                                      49.936703\n",
       "NONLIVINGAPARTMENTS_MODE                             69.293343\n",
       "NONLIVINGAREA_MODE                                   54.951088\n",
       "APARTMENTS_MEDI                                      50.511010\n",
       "BASEMENTAREA_MEDI                                    58.268375\n",
       "YEARS_BEGINEXPLUATATION_MEDI                         48.522266\n",
       "YEARS_BUILD_MEDI                                     66.330578\n",
       "COMMONAREA_MEDI                                      69.714109\n",
       "ELEVATORS_MEDI                                       53.074343\n",
       "ENTRANCES_MEDI                                       50.078455\n",
       "FLOORSMAX_MEDI                                       49.498533\n",
       "FLOORSMIN_MEDI                                       67.678489\n",
       "LANDAREA_MEDI                                        59.183450\n",
       "LIVINGAPARTMENTS_MEDI                                68.203674\n",
       "LIVINGAREA_MEDI                                      49.936703\n",
       "NONLIVINGAPARTMENTS_MEDI                             69.293343\n",
       "NONLIVINGAREA_MEDI                                   54.951088\n",
       "TOTALAREA_MODE                                       48.014765\n",
       "EMERGENCYSTATE_MODE                                   0.000000\n",
       "OBS_30_CNT_SOCIAL_CIRCLE                              0.367433\n",
       "DEF_30_CNT_SOCIAL_CIRCLE                              0.300347\n",
       "OBS_60_CNT_SOCIAL_CIRCLE                              0.391293\n",
       "DEF_60_CNT_SOCIAL_CIRCLE                              0.303715\n",
       "DAYS_LAST_PHONE_CHANGE                                0.000281\n",
       "FLAG_DOCUMENT_2                                       0.000000\n",
       "FLAG_DOCUMENT_3                                       0.000000\n",
       "FLAG_DOCUMENT_4                                       0.000000\n",
       "FLAG_DOCUMENT_5                                       0.000000\n",
       "FLAG_DOCUMENT_6                                       0.000000\n",
       "FLAG_DOCUMENT_7                                       0.000000\n",
       "FLAG_DOCUMENT_8                                       0.000000\n",
       "FLAG_DOCUMENT_9                                       0.000000\n",
       "FLAG_DOCUMENT_10                                      0.000000\n",
       "FLAG_DOCUMENT_11                                      0.000000\n",
       "FLAG_DOCUMENT_12                                      0.000000\n",
       "FLAG_DOCUMENT_13                                      0.000000\n",
       "FLAG_DOCUMENT_14                                      0.000000\n",
       "FLAG_DOCUMENT_15                                      0.000000\n",
       "FLAG_DOCUMENT_16                                      0.000000\n",
       "FLAG_DOCUMENT_17                                      0.000000\n",
       "FLAG_DOCUMENT_18                                      0.000000\n",
       "FLAG_DOCUMENT_19                                      0.000000\n",
       "FLAG_DOCUMENT_20                                      0.000000\n",
       "FLAG_DOCUMENT_21                                      0.000000\n",
       "AMT_REQ_CREDIT_BUREAU_HOUR                           13.371040\n",
       "AMT_REQ_CREDIT_BUREAU_DAY                            13.377777\n",
       "AMT_REQ_CREDIT_BUREAU_WEEK                           13.388444\n",
       "AMT_REQ_CREDIT_BUREAU_MON                            13.789561\n",
       "AMT_REQ_CREDIT_BUREAU_QRT                            13.365146\n",
       "AMT_REQ_CREDIT_BUREAU_YEAR                           13.391531\n",
       "NAME_TYPE_SUITE_Children                              0.000000\n",
       "NAME_TYPE_SUITE_Family                                0.000000\n",
       "NAME_TYPE_SUITE_Group of people                       0.000000\n",
       "NAME_TYPE_SUITE_Other_A                               0.000000\n",
       "NAME_TYPE_SUITE_Other_B                               0.000000\n",
       "NAME_TYPE_SUITE_Spouse, partner                       0.000000\n",
       "NAME_TYPE_SUITE_Unaccompanied                         0.000000\n",
       "NAME_INCOME_TYPE_Businessman                          0.000000\n",
       "NAME_INCOME_TYPE_Commercial associate                 0.000000\n",
       "NAME_INCOME_TYPE_Maternity leave                      0.000000\n",
       "NAME_INCOME_TYPE_Pensioner                            0.000000\n",
       "NAME_INCOME_TYPE_State servant                        0.000000\n",
       "NAME_INCOME_TYPE_Student                              0.000000\n",
       "NAME_INCOME_TYPE_Unemployed                           0.000000\n",
       "NAME_INCOME_TYPE_Working                              0.000000\n",
       "NAME_EDUCATION_TYPE_Academic degree                   0.000000\n",
       "NAME_EDUCATION_TYPE_Higher education                  0.000000\n",
       "NAME_EDUCATION_TYPE_Incomplete higher                 0.000000\n",
       "NAME_EDUCATION_TYPE_Lower secondary                   0.000000\n",
       "NAME_EDUCATION_TYPE_Secondary / secondary special     0.000000\n",
       "NAME_FAMILY_STATUS_Civil marriage                     0.000000\n",
       "NAME_FAMILY_STATUS_Married                            0.000000\n",
       "NAME_FAMILY_STATUS_Separated                          0.000000\n",
       "NAME_FAMILY_STATUS_Single / not married               0.000000\n",
       "NAME_FAMILY_STATUS_Widow                              0.000000\n",
       "NAME_HOUSING_TYPE_Co-op apartment                     0.000000\n",
       "NAME_HOUSING_TYPE_House / apartment                   0.000000\n",
       "NAME_HOUSING_TYPE_Municipal apartment                 0.000000\n",
       "NAME_HOUSING_TYPE_Office apartment                    0.000000\n",
       "NAME_HOUSING_TYPE_Rented apartment                    0.000000\n",
       "NAME_HOUSING_TYPE_With parents                        0.000000\n",
       "OCCUPATION_TYPE_Accountants                           0.000000\n",
       "OCCUPATION_TYPE_Cleaning staff                        0.000000\n",
       "OCCUPATION_TYPE_Cooking staff                         0.000000\n",
       "OCCUPATION_TYPE_Core staff                            0.000000\n",
       "OCCUPATION_TYPE_Drivers                               0.000000\n",
       "OCCUPATION_TYPE_HR staff                              0.000000\n",
       "OCCUPATION_TYPE_High skill tech staff                 0.000000\n",
       "OCCUPATION_TYPE_IT staff                              0.000000\n",
       "OCCUPATION_TYPE_Laborers                              0.000000\n",
       "OCCUPATION_TYPE_Low-skill Laborers                    0.000000\n",
       "OCCUPATION_TYPE_Managers                              0.000000\n",
       "OCCUPATION_TYPE_Medicine staff                        0.000000\n",
       "OCCUPATION_TYPE_Private service staff                 0.000000\n",
       "OCCUPATION_TYPE_Realty agents                         0.000000\n",
       "OCCUPATION_TYPE_Sales staff                           0.000000\n",
       "OCCUPATION_TYPE_Secretaries                           0.000000\n",
       "OCCUPATION_TYPE_Security staff                        0.000000\n",
       "OCCUPATION_TYPE_Waiters/barmen staff                  0.000000\n",
       "WEEKDAY_APPR_PROCESS_START_FRIDAY                     0.000000\n",
       "WEEKDAY_APPR_PROCESS_START_MONDAY                     0.000000\n",
       "WEEKDAY_APPR_PROCESS_START_SATURDAY                   0.000000\n",
       "WEEKDAY_APPR_PROCESS_START_SUNDAY                     0.000000\n",
       "WEEKDAY_APPR_PROCESS_START_THURSDAY                   0.000000\n",
       "WEEKDAY_APPR_PROCESS_START_TUESDAY                    0.000000\n",
       "WEEKDAY_APPR_PROCESS_START_WEDNESDAY                  0.000000\n",
       "ORGANIZATION_TYPE_Advertising                         0.000000\n",
       "ORGANIZATION_TYPE_Agriculture                         0.000000\n",
       "ORGANIZATION_TYPE_Bank                                0.000000\n",
       "ORGANIZATION_TYPE_Business Entity Type 1              0.000000\n",
       "ORGANIZATION_TYPE_Business Entity Type 2              0.000000\n",
       "ORGANIZATION_TYPE_Business Entity Type 3              0.000000\n",
       "ORGANIZATION_TYPE_Cleaning                            0.000000\n",
       "ORGANIZATION_TYPE_Construction                        0.000000\n",
       "ORGANIZATION_TYPE_Culture                             0.000000\n",
       "ORGANIZATION_TYPE_Electricity                         0.000000\n",
       "ORGANIZATION_TYPE_Emergency                           0.000000\n",
       "ORGANIZATION_TYPE_Government                          0.000000\n",
       "ORGANIZATION_TYPE_Hotel                               0.000000\n",
       "ORGANIZATION_TYPE_Housing                             0.000000\n",
       "ORGANIZATION_TYPE_Industry: type 1                    0.000000\n",
       "ORGANIZATION_TYPE_Industry: type 10                   0.000000\n",
       "ORGANIZATION_TYPE_Industry: type 11                   0.000000\n",
       "ORGANIZATION_TYPE_Industry: type 12                   0.000000\n",
       "ORGANIZATION_TYPE_Industry: type 13                   0.000000\n",
       "ORGANIZATION_TYPE_Industry: type 2                    0.000000\n",
       "ORGANIZATION_TYPE_Industry: type 3                    0.000000\n",
       "ORGANIZATION_TYPE_Industry: type 4                    0.000000\n",
       "ORGANIZATION_TYPE_Industry: type 5                    0.000000\n",
       "ORGANIZATION_TYPE_Industry: type 6                    0.000000\n",
       "ORGANIZATION_TYPE_Industry: type 7                    0.000000\n",
       "ORGANIZATION_TYPE_Industry: type 8                    0.000000\n",
       "ORGANIZATION_TYPE_Industry: type 9                    0.000000\n",
       "ORGANIZATION_TYPE_Insurance                           0.000000\n",
       "ORGANIZATION_TYPE_Kindergarten                        0.000000\n",
       "ORGANIZATION_TYPE_Legal Services                      0.000000\n",
       "ORGANIZATION_TYPE_Medicine                            0.000000\n",
       "ORGANIZATION_TYPE_Military                            0.000000\n",
       "ORGANIZATION_TYPE_Mobile                              0.000000\n",
       "ORGANIZATION_TYPE_Other                               0.000000\n",
       "ORGANIZATION_TYPE_Police                              0.000000\n",
       "ORGANIZATION_TYPE_Postal                              0.000000\n",
       "ORGANIZATION_TYPE_Realtor                             0.000000\n",
       "ORGANIZATION_TYPE_Religion                            0.000000\n",
       "ORGANIZATION_TYPE_Restaurant                          0.000000\n",
       "ORGANIZATION_TYPE_School                              0.000000\n",
       "ORGANIZATION_TYPE_Security                            0.000000\n",
       "ORGANIZATION_TYPE_Security Ministries                 0.000000\n",
       "ORGANIZATION_TYPE_Self-employed                       0.000000\n",
       "ORGANIZATION_TYPE_Services                            0.000000\n",
       "ORGANIZATION_TYPE_Telecom                             0.000000\n",
       "ORGANIZATION_TYPE_Trade: type 1                       0.000000\n",
       "ORGANIZATION_TYPE_Trade: type 2                       0.000000\n",
       "ORGANIZATION_TYPE_Trade: type 3                       0.000000\n",
       "ORGANIZATION_TYPE_Trade: type 4                       0.000000\n",
       "ORGANIZATION_TYPE_Trade: type 5                       0.000000\n",
       "ORGANIZATION_TYPE_Trade: type 6                       0.000000\n",
       "ORGANIZATION_TYPE_Trade: type 7                       0.000000\n",
       "ORGANIZATION_TYPE_Transport: type 1                   0.000000\n",
       "ORGANIZATION_TYPE_Transport: type 2                   0.000000\n",
       "ORGANIZATION_TYPE_Transport: type 3                   0.000000\n",
       "ORGANIZATION_TYPE_Transport: type 4                   0.000000\n",
       "ORGANIZATION_TYPE_University                          0.000000\n",
       "ORGANIZATION_TYPE_XNA                                 0.000000\n",
       "FONDKAPREMONT_MODE_not specified                      0.000000\n",
       "FONDKAPREMONT_MODE_org spec account                   0.000000\n",
       "FONDKAPREMONT_MODE_reg oper account                   0.000000\n",
       "FONDKAPREMONT_MODE_reg oper spec account              0.000000\n",
       "HOUSETYPE_MODE_block of flats                         0.000000\n",
       "HOUSETYPE_MODE_specific housing                       0.000000\n",
       "HOUSETYPE_MODE_terraced house                         0.000000\n",
       "WALLSMATERIAL_MODE_Block                              0.000000\n",
       "WALLSMATERIAL_MODE_Mixed                              0.000000\n",
       "WALLSMATERIAL_MODE_Monolithic                         0.000000\n",
       "WALLSMATERIAL_MODE_Others                             0.000000\n",
       "WALLSMATERIAL_MODE_Panel                              0.000000\n",
       "WALLSMATERIAL_MODE_Stone, brick                       0.000000\n",
       "WALLSMATERIAL_MODE_Wooden                             0.000000\n",
       "dtype: float64"
      ]
     },
     "execution_count": 26,
     "metadata": {},
     "output_type": "execute_result"
    }
   ],
   "source": [
    "All.isnull().sum() * 100 / len(All)"
   ]
  },
  {
   "cell_type": "code",
   "execution_count": 27,
   "metadata": {},
   "outputs": [],
   "source": [
    "All['AMT_ANNUITY'] = All['AMT_ANNUITY'].fillna(All['AMT_ANNUITY'].mean())\n",
    "All['CODE_GENDER'].fillna(All['CODE_GENDER'].mode()[0], inplace=True)\n",
    "All['EXT_SOURCE_1'] = All['EXT_SOURCE_1'].fillna(All['EXT_SOURCE_1'].mean())\n",
    "All['EXT_SOURCE_2'] = All['EXT_SOURCE_2'].fillna(All['EXT_SOURCE_2'].mean())\n",
    "All['EXT_SOURCE_3'] = All['EXT_SOURCE_3'].fillna(All['EXT_SOURCE_3'].mean())\n",
    "All['DAYS_EMPLOYED'] = All['DAYS_EMPLOYED'].fillna(All['DAYS_EMPLOYED'].mean())\n",
    "All['AMT_REQ_CREDIT_BUREAU_MON'].fillna(All['AMT_REQ_CREDIT_BUREAU_MON'].mode()[0], inplace=True)\n",
    "All['AMT_REQ_CREDIT_BUREAU_YEAR'].fillna(All['AMT_REQ_CREDIT_BUREAU_YEAR'].mode()[0], inplace=True)\n",
    "All['AMT_REQ_CREDIT_BUREAU_WEEK'].fillna(All['AMT_REQ_CREDIT_BUREAU_WEEK'].mode()[0], inplace=True)\n",
    "All['AMT_REQ_CREDIT_BUREAU_DAY'].fillna(All['AMT_REQ_CREDIT_BUREAU_DAY'].mode()[0], inplace=True)\n",
    "All['AMT_REQ_CREDIT_BUREAU_HOUR'].fillna(All['AMT_REQ_CREDIT_BUREAU_HOUR'].mode()[0], inplace=True)\n",
    "All['AMT_REQ_CREDIT_BUREAU_QRT'].fillna(All['AMT_REQ_CREDIT_BUREAU_QRT'].mode()[0], inplace=True)\n",
    "All['OBS_60_CNT_SOCIAL_CIRCLE'].fillna(All['OBS_60_CNT_SOCIAL_CIRCLE'].mode()[0], inplace=True)\n",
    "All['OBS_30_CNT_SOCIAL_CIRCLE'].fillna(All['OBS_30_CNT_SOCIAL_CIRCLE'].mode()[0], inplace=True)\n",
    "All['DEF_60_CNT_SOCIAL_CIRCLE'].fillna(All['DEF_60_CNT_SOCIAL_CIRCLE'].mode()[0], inplace=True)\n",
    "All['DEF_30_CNT_SOCIAL_CIRCLE'].fillna(All['DEF_30_CNT_SOCIAL_CIRCLE'].mode()[0], inplace=True)\n",
    "All['EXT_SOURCE_2'] = All['EXT_SOURCE_2'].fillna(All['EXT_SOURCE_2'].mean())\n",
    "All['CNT_FAM_MEMBERS'].fillna(All['CNT_FAM_MEMBERS'].mode()[0], inplace=True)\n",
    "All['AMT_GOODS_PRICE'] = All['AMT_GOODS_PRICE'].fillna(All['AMT_GOODS_PRICE'].mean())\n",
    "All['CNT_CHILDREN'].fillna(All['CNT_CHILDREN'].mode()[0], inplace=True)\n",
    "All['REGION_RATING_CLIENT_W_CITY'].fillna(All['REGION_RATING_CLIENT_W_CITY'].mode()[0], inplace=True)\n",
    "All['DAYS_LAST_PHONE_CHANGE'].fillna(All['DAYS_LAST_PHONE_CHANGE'].mode()[0], inplace=True)"
   ]
  },
  {
   "cell_type": "code",
   "execution_count": 28,
   "metadata": {},
   "outputs": [],
   "source": [
    "dataset_missing = (All.isnull().sum() / len(All)).sort_values(ascending = False)\n",
    "dataset_missing = dataset_missing.index[dataset_missing > 0.45]\n",
    "All = All.drop(columns = dataset_missing)"
   ]
  },
  {
   "cell_type": "code",
   "execution_count": 29,
   "metadata": {},
   "outputs": [],
   "source": [
    "All.CODE_GENDER = All.CODE_GENDER.astype('int64')\n",
    "All.CODE_GENDER = All.CODE_GENDER.astype(object)\n",
    "All.CNT_CHILDREN = All.CNT_CHILDREN.astype('int64')\n",
    "All.CNT_CHILDREN = All.CNT_CHILDREN.astype(object)\n",
    "All.AMT_INCOME_TOTAL = All.AMT_INCOME_TOTAL.astype('int64')\n",
    "All.AMT_CREDIT = All.AMT_CREDIT.astype('int64')\n",
    "All.AMT_ANNUITY = All.AMT_ANNUITY.astype('int64')\n",
    "All.AMT_GOODS_PRICE = All.AMT_GOODS_PRICE.astype('int64')\n",
    "All.DAYS_BIRTH = All.DAYS_BIRTH.astype('int64')\n",
    "All.DAYS_EMPLOYED = All.DAYS_EMPLOYED.astype('int64')\n",
    "All.DAYS_REGISTRATION = All.DAYS_REGISTRATION.astype('int64')\n",
    "All.DAYS_ID_PUBLISH = All.DAYS_ID_PUBLISH.astype('int64')\n",
    "All.CNT_FAM_MEMBERS = All.CNT_FAM_MEMBERS.astype('int64')\n",
    "All.CNT_FAM_MEMBERS = All.CNT_FAM_MEMBERS.astype(object)\n",
    "All.REGION_RATING_CLIENT_W_CITY = All.REGION_RATING_CLIENT_W_CITY.astype('int64')\n",
    "All.REGION_RATING_CLIENT_W_CITY = All.REGION_RATING_CLIENT_W_CITY.astype(object)\n",
    "All.OBS_30_CNT_SOCIAL_CIRCLE = All.OBS_30_CNT_SOCIAL_CIRCLE.astype('int64')\n",
    "All.DEF_30_CNT_SOCIAL_CIRCLE = All.DEF_30_CNT_SOCIAL_CIRCLE.astype('int64')\n",
    "All.OBS_60_CNT_SOCIAL_CIRCLE = All.OBS_60_CNT_SOCIAL_CIRCLE.astype('int64')\n",
    "All.DEF_60_CNT_SOCIAL_CIRCLE = All.DEF_60_CNT_SOCIAL_CIRCLE.astype('int64')\n",
    "All.OBS_30_CNT_SOCIAL_CIRCLE = All.OBS_30_CNT_SOCIAL_CIRCLE.astype(object)\n",
    "All.DEF_30_CNT_SOCIAL_CIRCLE = All.DEF_30_CNT_SOCIAL_CIRCLE.astype(object)\n",
    "All.OBS_60_CNT_SOCIAL_CIRCLE = All.OBS_60_CNT_SOCIAL_CIRCLE.astype(object)\n",
    "All.DEF_60_CNT_SOCIAL_CIRCLE = All.DEF_60_CNT_SOCIAL_CIRCLE.astype(object)\n",
    "All.DAYS_LAST_PHONE_CHANGE = All.DAYS_LAST_PHONE_CHANGE.astype('int64')\n",
    "All.AMT_REQ_CREDIT_BUREAU_HOUR = All.AMT_REQ_CREDIT_BUREAU_HOUR.astype('int64')\n",
    "All.AMT_REQ_CREDIT_BUREAU_DAY = All.AMT_REQ_CREDIT_BUREAU_DAY.astype('int64')\n",
    "All.AMT_REQ_CREDIT_BUREAU_WEEK = All.AMT_REQ_CREDIT_BUREAU_WEEK.astype('int64')\n",
    "All.AMT_REQ_CREDIT_BUREAU_MON = All.AMT_REQ_CREDIT_BUREAU_MON.astype('int64')\n",
    "All.AMT_REQ_CREDIT_BUREAU_QRT = All.AMT_REQ_CREDIT_BUREAU_QRT.astype('int64')\n",
    "All.AMT_REQ_CREDIT_BUREAU_YEAR = All.AMT_REQ_CREDIT_BUREAU_YEAR.astype('int64')\n",
    "All.AMT_REQ_CREDIT_BUREAU_HOUR = All.AMT_REQ_CREDIT_BUREAU_HOUR.astype(object)\n",
    "All.AMT_REQ_CREDIT_BUREAU_DAY = All.AMT_REQ_CREDIT_BUREAU_DAY.astype(object)\n",
    "All.AMT_REQ_CREDIT_BUREAU_WEEK = All.AMT_REQ_CREDIT_BUREAU_WEEK.astype(object)\n",
    "All.AMT_REQ_CREDIT_BUREAU_MON = All.AMT_REQ_CREDIT_BUREAU_MON.astype(object)\n",
    "All.AMT_REQ_CREDIT_BUREAU_QRT = All.AMT_REQ_CREDIT_BUREAU_QRT.astype(object)\n",
    "All.AMT_REQ_CREDIT_BUREAU_YEAR = All.AMT_REQ_CREDIT_BUREAU_YEAR.astype(object)"
   ]
  },
  {
   "cell_type": "markdown",
   "metadata": {},
   "source": [
    "# Feature Selection"
   ]
  },
  {
   "cell_type": "code",
   "execution_count": 30,
   "metadata": {},
   "outputs": [],
   "source": [
    "# create new variables\n",
    "All['EMPLOY_AGE'] = All['DAYS_EMPLOYED'] / All['DAYS_BIRTH']\n",
    "All['INCOME_AGE'] = All['AMT_INCOME_TOTAL'] / All['DAYS_BIRTH']\n",
    "All['CREDIT_AGE'] = All['AMT_CREDIT'] / All['DAYS_BIRTH']\n",
    "All['CREDIT_INCOME'] = All['AMT_CREDIT'] / All['AMT_INCOME_TOTAL']\n",
    "All['ANNUITY_INCOME'] = All['AMT_ANNUITY'] / All['AMT_INCOME_TOTAL']\n",
    "All['ANNUITY_CREDIT'] = All['AMT_ANNUITY'] / All['AMT_CREDIT']"
   ]
  },
  {
   "cell_type": "code",
   "execution_count": 31,
   "metadata": {},
   "outputs": [
    {
     "name": "stdout",
     "output_type": "stream",
     "text": [
      "Most Positive Correlations:\n",
      " EMERGENCYSTATE_MODE                                  0.041955\n",
      "OCCUPATION_TYPE_Laborers                             0.043019\n",
      "FLAG_DOCUMENT_3                                      0.044346\n",
      "REG_CITY_NOT_LIVE_CITY                               0.044395\n",
      "FLAG_EMP_PHONE                                       0.045982\n",
      "NAME_EDUCATION_TYPE_Secondary / secondary special    0.049824\n",
      "REG_CITY_NOT_WORK_CITY                               0.050994\n",
      "NAME_INCOME_TYPE_Working                             0.057481\n",
      "REGION_RATING_CLIENT                                 0.058899\n",
      "TARGET                                               1.000000\n",
      "Name: TARGET, dtype: float64\n",
      "\n",
      "Most Negative Correlations:\n",
      " EXT_SOURCE_2                           -0.160303\n",
      "EXT_SOURCE_3                           -0.157473\n",
      "EXT_SOURCE_1                           -0.099163\n",
      "DAYS_BIRTH                             -0.078234\n",
      "DAYS_EMPLOYED                          -0.069774\n",
      "EMPLOY_AGE                             -0.056927\n",
      "NAME_EDUCATION_TYPE_Higher education   -0.056593\n",
      "DAYS_LAST_PHONE_CHANGE                 -0.055925\n",
      "DAYS_ID_PUBLISH                        -0.051124\n",
      "NAME_INCOME_TYPE_Pensioner             -0.046209\n",
      "Name: TARGET, dtype: float64\n"
     ]
    }
   ],
   "source": [
    "#Checking Correlation of Features with the Target variable\n",
    "correlations = All.corr()['TARGET'].sort_values()\n",
    "\n",
    "print('Most Positive Correlations:\\n', correlations.tail(10))\n",
    "print('\\nMost Negative Correlations:\\n', correlations.head(10))"
   ]
  },
  {
   "cell_type": "code",
   "execution_count": 32,
   "metadata": {},
   "outputs": [],
   "source": [
    "All.TARGET = All.TARGET.replace(np.nan,\"ABC\")"
   ]
  },
  {
   "cell_type": "code",
   "execution_count": 33,
   "metadata": {},
   "outputs": [],
   "source": [
    "Test = All[All['TARGET'] == \"ABC\"]\n",
    "Train = All[All['TARGET'] != \"ABC\"]"
   ]
  },
  {
   "cell_type": "code",
   "execution_count": 34,
   "metadata": {},
   "outputs": [],
   "source": [
    "Test = Test.drop(['TARGET'], axis=1)"
   ]
  },
  {
   "cell_type": "code",
   "execution_count": 35,
   "metadata": {},
   "outputs": [],
   "source": [
    "Train.TARGET = Train.TARGET.astype('int64')\n",
    "Train.TARGET = Train.TARGET.astype('category')"
   ]
  },
  {
   "cell_type": "code",
   "execution_count": 36,
   "metadata": {},
   "outputs": [],
   "source": [
    "X_test = Test\n",
    "X_test.drop(columns=['SK_ID_CURR'], axis = 1, inplace=True)"
   ]
  },
  {
   "cell_type": "code",
   "execution_count": 37,
   "metadata": {},
   "outputs": [],
   "source": [
    "y_train = Train['TARGET']\n",
    "X_train = Train.drop(columns=['TARGET','SK_ID_CURR'], axis = 1)"
   ]
  },
  {
   "cell_type": "code",
   "execution_count": 38,
   "metadata": {},
   "outputs": [
    {
     "name": "stdout",
     "output_type": "stream",
     "text": [
      "Kendall correlation coefficient: -0.031\n",
      "Kendall correlation coefficient: -0.022\n",
      "Kendall correlation coefficient: -0.006\n",
      "Kendall correlation coefficient: -0.015\n",
      "Kendall correlation coefficient: -0.014\n",
      "Kendall correlation coefficient: -0.000\n",
      "Kendall correlation coefficient: -0.026\n",
      "Kendall correlation coefficient: -0.025\n",
      "Kendall correlation coefficient: -0.065\n",
      "Kendall correlation coefficient: -0.070\n",
      "Kendall correlation coefficient: -0.033\n",
      "Kendall correlation coefficient: -0.044\n",
      "Kendall correlation coefficient: 0.001\n",
      "Kendall correlation coefficient: 0.046\n",
      "Kendall correlation coefficient: 0.029\n",
      "Kendall correlation coefficient: 0.000\n",
      "Kendall correlation coefficient: -0.024\n",
      "Kendall correlation coefficient: -0.002\n",
      "Kendall correlation coefficient: 0.057\n",
      "Kendall correlation coefficient: -0.019\n",
      "Kendall correlation coefficient: 0.006\n",
      "Kendall correlation coefficient: 0.007\n",
      "Kendall correlation coefficient: 0.003\n",
      "Kendall correlation coefficient: 0.044\n",
      "Kendall correlation coefficient: 0.051\n",
      "Kendall correlation coefficient: 0.033\n",
      "Kendall correlation coefficient: -0.077\n",
      "Kendall correlation coefficient: -0.120\n",
      "Kendall correlation coefficient: -0.120\n",
      "Kendall correlation coefficient: 0.042\n",
      "Kendall correlation coefficient: -0.048\n",
      "Kendall correlation coefficient: 0.005\n",
      "Kendall correlation coefficient: 0.044\n",
      "Kendall correlation coefficient: -0.003\n",
      "Kendall correlation coefficient: -0.000\n",
      "Kendall correlation coefficient: -0.029\n",
      "Kendall correlation coefficient: -0.002\n",
      "Kendall correlation coefficient: -0.008\n",
      "Kendall correlation coefficient: -0.004\n",
      "Kendall correlation coefficient: -0.001\n",
      "Kendall correlation coefficient: -0.004\n",
      "Kendall correlation coefficient: -0.001\n",
      "Kendall correlation coefficient: -0.012\n",
      "Kendall correlation coefficient: -0.009\n",
      "Kendall correlation coefficient: -0.007\n",
      "Kendall correlation coefficient: -0.012\n",
      "Kendall correlation coefficient: -0.003\n",
      "Kendall correlation coefficient: -0.008\n",
      "Kendall correlation coefficient: -0.001\n",
      "Kendall correlation coefficient: 0.000\n",
      "Kendall correlation coefficient: 0.004\n",
      "Kendall correlation coefficient: -0.003\n",
      "Kendall correlation coefficient: -0.008\n",
      "Kendall correlation coefficient: 0.000\n",
      "Kendall correlation coefficient: 0.001\n",
      "Kendall correlation coefficient: 0.005\n",
      "Kendall correlation coefficient: -0.001\n",
      "Kendall correlation coefficient: 0.008\n",
      "Kendall correlation coefficient: -0.002\n",
      "Kendall correlation coefficient: -0.012\n",
      "Kendall correlation coefficient: 0.005\n",
      "Kendall correlation coefficient: -0.046\n",
      "Kendall correlation coefficient: -0.023\n",
      "Kendall correlation coefficient: -0.002\n",
      "Kendall correlation coefficient: 0.009\n",
      "Kendall correlation coefficient: 0.057\n",
      "Kendall correlation coefficient: -0.005\n",
      "Kendall correlation coefficient: -0.057\n",
      "Kendall correlation coefficient: 0.003\n",
      "Kendall correlation coefficient: 0.012\n",
      "Kendall correlation coefficient: 0.050\n",
      "Kendall correlation coefficient: 0.022\n",
      "Kendall correlation coefficient: -0.025\n",
      "Kendall correlation coefficient: 0.001\n",
      "Kendall correlation coefficient: 0.027\n",
      "Kendall correlation coefficient: -0.019\n",
      "Kendall correlation coefficient: -0.000\n",
      "Kendall correlation coefficient: -0.029\n",
      "Kendall correlation coefficient: 0.003\n",
      "Kendall correlation coefficient: -0.005\n",
      "Kendall correlation coefficient: 0.020\n",
      "Kendall correlation coefficient: 0.030\n",
      "Kendall correlation coefficient: -0.022\n",
      "Kendall correlation coefficient: 0.007\n",
      "Kendall correlation coefficient: 0.012\n",
      "Kendall correlation coefficient: -0.020\n",
      "Kendall correlation coefficient: 0.030\n",
      "Kendall correlation coefficient: -0.003\n",
      "Kendall correlation coefficient: -0.014\n",
      "Kendall correlation coefficient: -0.002\n",
      "Kendall correlation coefficient: 0.043\n",
      "Kendall correlation coefficient: 0.028\n",
      "Kendall correlation coefficient: -0.019\n",
      "Kendall correlation coefficient: -0.009\n",
      "Kendall correlation coefficient: -0.005\n",
      "Kendall correlation coefficient: -0.000\n",
      "Kendall correlation coefficient: 0.020\n",
      "Kendall correlation coefficient: -0.002\n",
      "Kendall correlation coefficient: 0.015\n",
      "Kendall correlation coefficient: 0.008\n",
      "Kendall correlation coefficient: 0.001\n",
      "Kendall correlation coefficient: -0.005\n",
      "Kendall correlation coefficient: -0.002\n",
      "Kendall correlation coefficient: -0.001\n",
      "Kendall correlation coefficient: 0.000\n",
      "Kendall correlation coefficient: 0.005\n",
      "Kendall correlation coefficient: 0.001\n",
      "Kendall correlation coefficient: 0.000\n",
      "Kendall correlation coefficient: 0.008\n",
      "Kendall correlation coefficient: -0.010\n",
      "Kendall correlation coefficient: 0.000\n",
      "Kendall correlation coefficient: 0.003\n",
      "Kendall correlation coefficient: 0.024\n",
      "Kendall correlation coefficient: 0.003\n",
      "Kendall correlation coefficient: 0.020\n",
      "Kendall correlation coefficient: -0.003\n",
      "Kendall correlation coefficient: -0.003\n",
      "Kendall correlation coefficient: -0.001\n",
      "Kendall correlation coefficient: -0.008\n",
      "Kendall correlation coefficient: -0.003\n",
      "Kendall correlation coefficient: -0.000\n",
      "Kendall correlation coefficient: 0.006\n",
      "Kendall correlation coefficient: -0.001\n",
      "Kendall correlation coefficient: 0.002\n",
      "Kendall correlation coefficient: -0.005\n",
      "Kendall correlation coefficient: 0.003\n",
      "Kendall correlation coefficient: -0.001\n",
      "Kendall correlation coefficient: 0.010\n",
      "Kendall correlation coefficient: 0.004\n",
      "Kendall correlation coefficient: -0.002\n",
      "Kendall correlation coefficient: -0.001\n",
      "Kendall correlation coefficient: -0.000\n",
      "Kendall correlation coefficient: 0.001\n",
      "Kendall correlation coefficient: -0.005\n",
      "Kendall correlation coefficient: -0.004\n",
      "Kendall correlation coefficient: -0.006\n",
      "Kendall correlation coefficient: -0.000\n",
      "Kendall correlation coefficient: -0.011\n",
      "Kendall correlation coefficient: -0.010\n",
      "Kendall correlation coefficient: 0.001\n",
      "Kendall correlation coefficient: -0.004\n",
      "Kendall correlation coefficient: -0.010\n",
      "Kendall correlation coefficient: 0.001\n",
      "Kendall correlation coefficient: 0.003\n",
      "Kendall correlation coefficient: -0.001\n",
      "Kendall correlation coefficient: 0.010\n",
      "Kendall correlation coefficient: -0.014\n",
      "Kendall correlation coefficient: 0.007\n",
      "Kendall correlation coefficient: -0.009\n",
      "Kendall correlation coefficient: 0.029\n",
      "Kendall correlation coefficient: -0.004\n",
      "Kendall correlation coefficient: -0.001\n",
      "Kendall correlation coefficient: 0.001\n",
      "Kendall correlation coefficient: -0.003\n",
      "Kendall correlation coefficient: 0.009\n",
      "Kendall correlation coefficient: -0.003\n",
      "Kendall correlation coefficient: -0.001\n",
      "Kendall correlation coefficient: -0.006\n",
      "Kendall correlation coefficient: 0.008\n",
      "Kendall correlation coefficient: -0.003\n",
      "Kendall correlation coefficient: -0.001\n",
      "Kendall correlation coefficient: 0.018\n",
      "Kendall correlation coefficient: 0.006\n",
      "Kendall correlation coefficient: -0.008\n",
      "Kendall correlation coefficient: -0.046\n",
      "Kendall correlation coefficient: -0.003\n",
      "Kendall correlation coefficient: -0.011\n",
      "Kendall correlation coefficient: -0.023\n",
      "Kendall correlation coefficient: -0.011\n",
      "Kendall correlation coefficient: -0.041\n",
      "Kendall correlation coefficient: 0.005\n",
      "Kendall correlation coefficient: 0.001\n",
      "Kendall correlation coefficient: -0.007\n",
      "Kendall correlation coefficient: -0.002\n",
      "Kendall correlation coefficient: -0.009\n",
      "Kendall correlation coefficient: 0.001\n",
      "Kendall correlation coefficient: -0.033\n",
      "Kendall correlation coefficient: -0.013\n",
      "Kendall correlation coefficient: 0.008\n",
      "Kendall correlation coefficient: -0.051\n",
      "Kendall correlation coefficient: 0.020\n",
      "Kendall correlation coefficient: 0.011\n",
      "Kendall correlation coefficient: -0.001\n",
      "Kendall correlation coefficient: 0.015\n",
      "Kendall correlation coefficient: 0.025\n"
     ]
    },
    {
     "data": {
      "text/plain": [
       "['NAME_CONTRACT_TYPE',\n",
       " 'FLAG_OWN_CAR',\n",
       " 'FLAG_OWN_REALTY',\n",
       " 'AMT_INCOME_TOTAL',\n",
       " 'AMT_CREDIT',\n",
       " 'AMT_GOODS_PRICE',\n",
       " 'REGION_POPULATION_RELATIVE',\n",
       " 'DAYS_BIRTH',\n",
       " 'DAYS_EMPLOYED',\n",
       " 'DAYS_REGISTRATION',\n",
       " 'DAYS_ID_PUBLISH',\n",
       " 'FLAG_EMP_PHONE',\n",
       " 'FLAG_WORK_PHONE',\n",
       " 'FLAG_PHONE',\n",
       " 'REGION_RATING_CLIENT',\n",
       " 'HOUR_APPR_PROCESS_START',\n",
       " 'REG_REGION_NOT_LIVE_REGION',\n",
       " 'REG_REGION_NOT_WORK_REGION',\n",
       " 'REG_CITY_NOT_LIVE_CITY',\n",
       " 'REG_CITY_NOT_WORK_CITY',\n",
       " 'LIVE_CITY_NOT_WORK_CITY',\n",
       " 'EXT_SOURCE_1',\n",
       " 'EXT_SOURCE_2',\n",
       " 'EXT_SOURCE_3',\n",
       " 'EMERGENCYSTATE_MODE',\n",
       " 'DAYS_LAST_PHONE_CHANGE',\n",
       " 'FLAG_DOCUMENT_2',\n",
       " 'FLAG_DOCUMENT_3',\n",
       " 'FLAG_DOCUMENT_6',\n",
       " 'FLAG_DOCUMENT_8',\n",
       " 'FLAG_DOCUMENT_9',\n",
       " 'FLAG_DOCUMENT_11',\n",
       " 'FLAG_DOCUMENT_13',\n",
       " 'FLAG_DOCUMENT_14',\n",
       " 'FLAG_DOCUMENT_15',\n",
       " 'FLAG_DOCUMENT_16',\n",
       " 'FLAG_DOCUMENT_18',\n",
       " 'FLAG_DOCUMENT_21',\n",
       " 'NAME_TYPE_SUITE_Family',\n",
       " 'NAME_TYPE_SUITE_Other_B',\n",
       " 'NAME_TYPE_SUITE_Unaccompanied',\n",
       " 'NAME_INCOME_TYPE_Commercial associate',\n",
       " 'NAME_INCOME_TYPE_Maternity leave',\n",
       " 'NAME_INCOME_TYPE_Pensioner',\n",
       " 'NAME_INCOME_TYPE_State servant',\n",
       " 'NAME_INCOME_TYPE_Unemployed',\n",
       " 'NAME_INCOME_TYPE_Working',\n",
       " 'NAME_EDUCATION_TYPE_Academic degree',\n",
       " 'NAME_EDUCATION_TYPE_Higher education',\n",
       " 'NAME_EDUCATION_TYPE_Lower secondary',\n",
       " 'NAME_EDUCATION_TYPE_Secondary / secondary special',\n",
       " 'NAME_FAMILY_STATUS_Civil marriage',\n",
       " 'NAME_FAMILY_STATUS_Married',\n",
       " 'NAME_FAMILY_STATUS_Single / not married',\n",
       " 'NAME_FAMILY_STATUS_Widow',\n",
       " 'NAME_HOUSING_TYPE_House / apartment',\n",
       " 'NAME_HOUSING_TYPE_Office apartment',\n",
       " 'NAME_HOUSING_TYPE_Rented apartment',\n",
       " 'NAME_HOUSING_TYPE_With parents',\n",
       " 'OCCUPATION_TYPE_Accountants',\n",
       " 'OCCUPATION_TYPE_Cleaning staff',\n",
       " 'OCCUPATION_TYPE_Cooking staff',\n",
       " 'OCCUPATION_TYPE_Core staff',\n",
       " 'OCCUPATION_TYPE_Drivers',\n",
       " 'OCCUPATION_TYPE_High skill tech staff',\n",
       " 'OCCUPATION_TYPE_Laborers',\n",
       " 'OCCUPATION_TYPE_Low-skill Laborers',\n",
       " 'OCCUPATION_TYPE_Managers',\n",
       " 'OCCUPATION_TYPE_Medicine staff',\n",
       " 'OCCUPATION_TYPE_Private service staff',\n",
       " 'OCCUPATION_TYPE_Sales staff',\n",
       " 'OCCUPATION_TYPE_Security staff',\n",
       " 'OCCUPATION_TYPE_Waiters/barmen staff',\n",
       " 'WEEKDAY_APPR_PROCESS_START_MONDAY',\n",
       " 'WEEKDAY_APPR_PROCESS_START_TUESDAY',\n",
       " 'ORGANIZATION_TYPE_Agriculture',\n",
       " 'ORGANIZATION_TYPE_Bank',\n",
       " 'ORGANIZATION_TYPE_Business Entity Type 3',\n",
       " 'ORGANIZATION_TYPE_Construction',\n",
       " 'ORGANIZATION_TYPE_Government',\n",
       " 'ORGANIZATION_TYPE_Industry: type 1',\n",
       " 'ORGANIZATION_TYPE_Industry: type 12',\n",
       " 'ORGANIZATION_TYPE_Industry: type 3',\n",
       " 'ORGANIZATION_TYPE_Industry: type 4',\n",
       " 'ORGANIZATION_TYPE_Industry: type 9',\n",
       " 'ORGANIZATION_TYPE_Insurance',\n",
       " 'ORGANIZATION_TYPE_Kindergarten',\n",
       " 'ORGANIZATION_TYPE_Medicine',\n",
       " 'ORGANIZATION_TYPE_Military',\n",
       " 'ORGANIZATION_TYPE_Other',\n",
       " 'ORGANIZATION_TYPE_Police',\n",
       " 'ORGANIZATION_TYPE_Restaurant',\n",
       " 'ORGANIZATION_TYPE_School',\n",
       " 'ORGANIZATION_TYPE_Security',\n",
       " 'ORGANIZATION_TYPE_Security Ministries',\n",
       " 'ORGANIZATION_TYPE_Self-employed',\n",
       " 'ORGANIZATION_TYPE_Services',\n",
       " 'ORGANIZATION_TYPE_Trade: type 3',\n",
       " 'ORGANIZATION_TYPE_Trade: type 6',\n",
       " 'ORGANIZATION_TYPE_Trade: type 7',\n",
       " 'ORGANIZATION_TYPE_Transport: type 3',\n",
       " 'ORGANIZATION_TYPE_Transport: type 4',\n",
       " 'ORGANIZATION_TYPE_University',\n",
       " 'ORGANIZATION_TYPE_XNA',\n",
       " 'FONDKAPREMONT_MODE_org spec account',\n",
       " 'FONDKAPREMONT_MODE_reg oper account',\n",
       " 'FONDKAPREMONT_MODE_reg oper spec account',\n",
       " 'HOUSETYPE_MODE_block of flats',\n",
       " 'HOUSETYPE_MODE_specific housing',\n",
       " 'WALLSMATERIAL_MODE_Block',\n",
       " 'WALLSMATERIAL_MODE_Monolithic',\n",
       " 'WALLSMATERIAL_MODE_Panel',\n",
       " 'WALLSMATERIAL_MODE_Stone, brick',\n",
       " 'WALLSMATERIAL_MODE_Wooden',\n",
       " 'EMPLOY_AGE',\n",
       " 'INCOME_AGE',\n",
       " 'CREDIT_AGE',\n",
       " 'ANNUITY_INCOME',\n",
       " 'ANNUITY_CREDIT']"
      ]
     },
     "execution_count": 38,
     "metadata": {},
     "output_type": "execute_result"
    }
   ],
   "source": [
    "numeric_data = pd.DataFrame(X_train.select_dtypes(include=[np.number]))\n",
    "arr = []\n",
    "cols = list(numeric_data.columns)\n",
    "len(cols)\n",
    "ycat = Train['TARGET']\n",
    "\n",
    "for item in cols:\n",
    "    x1 = numeric_data[item]\n",
    "    coef, p = kendalltau(x1, ycat)\n",
    "    print('Kendall correlation coefficient: %.3f' % coef)\n",
    "    # interpret the significance\n",
    "    alpha = 0.05\n",
    "    p = abs(p)\n",
    "    if p > alpha:\n",
    "        continue\n",
    "    else:\n",
    "        arr.append(numeric_data[[item]].columns.values.tolist())\n",
    "\n",
    "arr = list(arr)\n",
    "arr = list(more_itertools.collapse(arr))\n",
    "arr"
   ]
  },
  {
   "cell_type": "code",
   "execution_count": 39,
   "metadata": {},
   "outputs": [
    {
     "name": "stdout",
     "output_type": "stream",
     "text": [
      "Feature 0: 606.035521\n",
      "Feature 1: 139.019171\n",
      "Feature 3: 141.856657\n",
      "Feature 4: 117.791004\n",
      "Feature 5: 452.742084\n",
      "Feature 6: 114.600763\n",
      "Feature 7: 397.323325\n"
     ]
    },
    {
     "data": {
      "text/plain": [
       "['CODE_GENDER',\n",
       " 'CNT_FAM_MEMBERS',\n",
       " 'REGION_RATING_CLIENT_W_CITY',\n",
       " 'OBS_30_CNT_SOCIAL_CIRCLE']"
      ]
     },
     "execution_count": 39,
     "metadata": {},
     "output_type": "execute_result"
    }
   ],
   "source": [
    "categorical_data = pd.DataFrame(X_train.select_dtypes(exclude=[np.number]))\n",
    "ycat = Train['TARGET']\n",
    "fs = SelectKBest(score_func=chi2, k='all')\n",
    "fs.fit(categorical_data,ycat)\n",
    "var1 = fs.transform(categorical_data)\n",
    "ar =[]\n",
    "for i in range(len(fs.scores_)):\n",
    "    if(fs.scores_[i] > 100):\n",
    "        print('Feature %d: %f' % (i, fs.scores_[i]))\n",
    "        ar.append(i)\n",
    "\n",
    "ar\n",
    "arr2 = categorical_data.columns.values[0],categorical_data.columns.values[2],categorical_data.columns.values[3],categorical_data.columns.values[4]\n",
    "arr2 = list(arr2)\n",
    "arr2"
   ]
  },
  {
   "cell_type": "code",
   "execution_count": 40,
   "metadata": {},
   "outputs": [],
   "source": [
    "Final_list = arr + arr2\n",
    "Train1 = Train.filter(Final_list)\n",
    "Test1 = Test.filter(Final_list)"
   ]
  },
  {
   "cell_type": "code",
   "execution_count": 41,
   "metadata": {},
   "outputs": [],
   "source": [
    "Train1 = pd.concat([Train1,y_train], axis=1, join='inner')"
   ]
  },
  {
   "cell_type": "markdown",
   "metadata": {},
   "source": [
    "# Modeling"
   ]
  },
  {
   "cell_type": "code",
   "execution_count": 42,
   "metadata": {},
   "outputs": [],
   "source": [
    "Train_majority = Train1[Train1.TARGET==0]\n",
    "Train_minority = Train1[Train1.TARGET==1]\n",
    "Train_minority_upsampled = resample(Train_minority,replace=True,n_samples=282686,random_state=123)\n",
    "Train_upsampled = pd.concat([Train_majority, Train_minority_upsampled])"
   ]
  },
  {
   "cell_type": "code",
   "execution_count": 43,
   "metadata": {},
   "outputs": [],
   "source": [
    "X = Train_upsampled[Train_upsampled.columns[0:123]]\n",
    "y = Train_upsampled['TARGET']\n",
    "X_train, X_test, y_train, y_test = train_test_split(X, y, test_size=0.20, random_state=42)"
   ]
  },
  {
   "cell_type": "code",
   "execution_count": 44,
   "metadata": {},
   "outputs": [],
   "source": [
    "scaler = StandardScaler()\n",
    "# Fit on training set only.\n",
    "scaler.fit(X_train)\n",
    "# Apply transform to both the training set and the test set.\n",
    "X_train = scaler.transform(X_train)\n",
    "X_test = scaler.transform(X_test)"
   ]
  },
  {
   "cell_type": "code",
   "execution_count": 45,
   "metadata": {},
   "outputs": [],
   "source": [
    "pca = PCA(.95)"
   ]
  },
  {
   "cell_type": "code",
   "execution_count": 46,
   "metadata": {},
   "outputs": [
    {
     "data": {
      "text/plain": [
       "PCA(copy=True, iterated_power='auto', n_components=0.95, random_state=None,\n",
       "    svd_solver='auto', tol=0.0, whiten=False)"
      ]
     },
     "execution_count": 46,
     "metadata": {},
     "output_type": "execute_result"
    }
   ],
   "source": [
    "pca.fit(X_train)"
   ]
  },
  {
   "cell_type": "code",
   "execution_count": 47,
   "metadata": {},
   "outputs": [],
   "source": [
    "X_train = pca.transform(X_train)\n",
    "X_test = pca.transform(X_test)"
   ]
  },
  {
   "cell_type": "markdown",
   "metadata": {},
   "source": [
    "# Model 1 - Naivye Bayes Model"
   ]
  },
  {
   "cell_type": "code",
   "execution_count": 48,
   "metadata": {},
   "outputs": [
    {
     "data": {
      "text/plain": [
       "GaussianNB(priors=None, var_smoothing=1e-09)"
      ]
     },
     "execution_count": 48,
     "metadata": {},
     "output_type": "execute_result"
    }
   ],
   "source": [
    "nb = GaussianNB()\n",
    "nb.fit(X_train,y_train)"
   ]
  },
  {
   "cell_type": "code",
   "execution_count": 49,
   "metadata": {},
   "outputs": [
    {
     "data": {
      "text/plain": [
       "0.6304045987176653"
      ]
     },
     "execution_count": 49,
     "metadata": {},
     "output_type": "execute_result"
    }
   ],
   "source": [
    "y_pred1 = nb.predict(X_test)\n",
    "accuracy_score(y_test, y_pred1, normalize=True, sample_weight=None)"
   ]
  },
  {
   "cell_type": "code",
   "execution_count": 50,
   "metadata": {},
   "outputs": [
    {
     "name": "stdout",
     "output_type": "stream",
     "text": [
      "              precision    recall  f1-score   support\n",
      "\n",
      "           0       0.63      0.64      0.63     56574\n",
      "           1       0.63      0.62      0.63     56501\n",
      "\n",
      "    accuracy                           0.63    113075\n",
      "   macro avg       0.63      0.63      0.63    113075\n",
      "weighted avg       0.63      0.63      0.63    113075\n",
      "\n"
     ]
    }
   ],
   "source": [
    "print(classification_report(y_test,y_pred1))"
   ]
  },
  {
   "cell_type": "code",
   "execution_count": 51,
   "metadata": {},
   "outputs": [
    {
     "data": {
      "text/plain": [
       "Text(0.5, 1.0, 'Test Set Results')"
      ]
     },
     "execution_count": 51,
     "metadata": {},
     "output_type": "execute_result"
    },
    {
     "data": {
      "image/png": "[encoded data removed]",
      "text/plain": [
       "<Figure size 600x400 with 2 Axes>"
      ]
     },
     "metadata": {
      "needs_background": "light"
     },
     "output_type": "display_data"
    }
   ],
   "source": [
    "plt.figure(dpi=100)\n",
    "#plt.subplot(1,2,1)\n",
    "    \n",
    "lr_confusion = confusion_matrix(y_test, y_pred1)\n",
    "    \n",
    "sns.heatmap(lr_confusion, cmap=plt.cm.Blues,annot=True, square=True,fmt='g',\n",
    "            xticklabels=['paid_pred','not_paid_pred'], \n",
    "            yticklabels=['paid_true','not_paid_true'])\n",
    "\n",
    "\n",
    "plt.title('Test Set Results')"
   ]
  },
  {
   "cell_type": "code",
   "execution_count": 52,
   "metadata": {},
   "outputs": [
    {
     "data": {
      "image/png": "[encoded data removed]",
      "text/plain": [
       "<Figure size 432x288 with 1 Axes>"
      ]
     },
     "metadata": {
      "needs_background": "light"
     },
     "output_type": "display_data"
    }
   ],
   "source": [
    "fpr1, tpr1, _ = metrics.roc_curve(y_test,  y_pred1)\n",
    "auc = metrics.roc_auc_score(y_test, y_pred1)\n",
    "plt.plot(fpr1,tpr1,label=\"data 1, auc=\"+str(auc))\n",
    "plt.legend(loc=4)\n",
    "plt.show()"
   ]
  },
  {
   "cell_type": "markdown",
   "metadata": {},
   "source": [
    "# Model 2 - Logistic Regression"
   ]
  },
  {
   "cell_type": "code",
   "execution_count": 53,
   "metadata": {},
   "outputs": [
    {
     "name": "stderr",
     "output_type": "stream",
     "text": [
      "C:\\Users\\shrey\\Anaconda3\\lib\\site-packages\\sklearn\\linear_model\\logistic.py:432: FutureWarning: Default solver will be changed to 'lbfgs' in 0.22. Specify a solver to silence this warning.\n",
      "  FutureWarning)\n"
     ]
    },
    {
     "data": {
      "text/plain": [
       "LogisticRegression(C=10, class_weight='balanced', dual=False,\n",
       "                   fit_intercept=True, intercept_scaling=1, l1_ratio=None,\n",
       "                   max_iter=100, multi_class='warn', n_jobs=None, penalty='l1',\n",
       "                   random_state=None, solver='warn', tol=0.0001, verbose=0,\n",
       "                   warm_start=False)"
      ]
     },
     "execution_count": 53,
     "metadata": {},
     "output_type": "execute_result"
    }
   ],
   "source": [
    "lr = LogisticRegression(C=10, class_weight='balanced',penalty='l1')\n",
    "lr.fit(X_train,y_train)"
   ]
  },
  {
   "cell_type": "code",
   "execution_count": 54,
   "metadata": {},
   "outputs": [],
   "source": [
    "y_pred = lr.predict(X_test)"
   ]
  },
  {
   "cell_type": "code",
   "execution_count": 55,
   "metadata": {},
   "outputs": [
    {
     "data": {
      "text/plain": [
       "0.6760645589210701"
      ]
     },
     "execution_count": 55,
     "metadata": {},
     "output_type": "execute_result"
    }
   ],
   "source": [
    "accuracy_score(y_test, y_pred, normalize=True, sample_weight=None)"
   ]
  },
  {
   "cell_type": "code",
   "execution_count": 56,
   "metadata": {},
   "outputs": [
    {
     "name": "stdout",
     "output_type": "stream",
     "text": [
      "              precision    recall  f1-score   support\n",
      "\n",
      "           0       0.67      0.68      0.68     56574\n",
      "           1       0.68      0.67      0.67     56501\n",
      "\n",
      "    accuracy                           0.68    113075\n",
      "   macro avg       0.68      0.68      0.68    113075\n",
      "weighted avg       0.68      0.68      0.68    113075\n",
      "\n"
     ]
    }
   ],
   "source": [
    "print(classification_report(y_test,y_pred))"
   ]
  },
  {
   "cell_type": "code",
   "execution_count": 57,
   "metadata": {},
   "outputs": [
    {
     "data": {
      "text/plain": [
       "Text(0.5, 1.0, 'Test Set Results')"
      ]
     },
     "execution_count": 57,
     "metadata": {},
     "output_type": "execute_result"
    },
    {
     "data": {
      "image/png": "[encoded data removed]",
      "text/plain": [
       "<Figure size 600x400 with 2 Axes>"
      ]
     },
     "metadata": {
      "needs_background": "light"
     },
     "output_type": "display_data"
    }
   ],
   "source": [
    "plt.figure(dpi=100)\n",
    "#plt.subplot(1,2,1)\n",
    "    \n",
    "lr_confusion = confusion_matrix(y_test, y_pred)\n",
    "    \n",
    "sns.heatmap(lr_confusion, cmap=plt.cm.Blues,annot=True, square=True,fmt='g',\n",
    "            xticklabels=['paid_pred','not_paid_pred'], \n",
    "            yticklabels=['paid_true','not_paid_true'])\n",
    "\n",
    "plt.title('Test Set Results')"
   ]
  },
  {
   "cell_type": "code",
   "execution_count": 58,
   "metadata": {},
   "outputs": [
    {
     "data": {
      "image/png": "[encoded data removed]",
      "text/plain": [
       "<Figure size 432x288 with 1 Axes>"
      ]
     },
     "metadata": {
      "needs_background": "light"
     },
     "output_type": "display_data"
    }
   ],
   "source": [
    "fpr, tpr, _ = metrics.roc_curve(y_test,  y_pred)\n",
    "auc = metrics.roc_auc_score(y_test, y_pred)\n",
    "plt.plot(fpr,tpr,label=\"data 1, auc=\"+str(auc))\n",
    "plt.legend(loc=4)\n",
    "plt.show()"
   ]
  },
  {
   "cell_type": "markdown",
   "metadata": {},
   "source": [
    "# Model 3 - H20 Generalized Linear Estimator"
   ]
  },
  {
   "cell_type": "code",
   "execution_count": 59,
   "metadata": {},
   "outputs": [
    {
     "name": "stdout",
     "output_type": "stream",
     "text": [
      "Checking whether there is an H2O instance running at http://localhost:54321..... not found.\n",
      "Attempting to start a local H2O server...\n",
      "; Java HotSpot(TM) 64-Bit Server VM (build 25.181-b13, mixed mode)\n",
      "  Starting server from C:\\Users\\shrey\\Anaconda3\\lib\\site-packages\\h2o\\backend\\bin\\h2o.jar\n",
      "  Ice root: C:\\Users\\shrey\\AppData\\Local\\Temp\\tmp65gukjin\n",
      "  JVM stdout: C:\\Users\\shrey\\AppData\\Local\\Temp\\tmp65gukjin\\h2o_shrey_started_from_python.out\n",
      "  JVM stderr: C:\\Users\\shrey\\AppData\\Local\\Temp\\tmp65gukjin\\h2o_shrey_started_from_python.err\n",
      "  Server is running at http://127.0.0.1:54321\n",
      "Connecting to H2O server at http://127.0.0.1:54321... successful.\n",
      "Warning: Your H2O cluster version is too old (1 year, 3 months and 22 days)! Please download and install the latest version from http://h2o.ai/download/\n"
     ]
    },
    {
     "data": {
      "text/html": [
       "<div style=\"overflow:auto\"><table style=\"width:50%\"><tr><td>H2O cluster uptime:</td>\n",
       "<td>10 secs</td></tr>\n",
       "<tr><td>H2O cluster timezone:</td>\n",
       "<td>America/New_York</td></tr>\n",
       "<tr><td>H2O data parsing timezone:</td>\n",
       "<td>UTC</td></tr>\n",
       "<tr><td>H2O cluster version:</td>\n",
       "<td>3.22.1.2</td></tr>\n",
       "<tr><td>H2O cluster version age:</td>\n",
       "<td>1 year, 3 months and 22 days !!!</td></tr>\n",
       "<tr><td>H2O cluster name:</td>\n",
       "<td>H2O_from_python_shrey_iga3e0</td></tr>\n",
       "<tr><td>H2O cluster total nodes:</td>\n",
       "<td>1</td></tr>\n",
       "<tr><td>H2O cluster free memory:</td>\n",
       "<td>3.539 Gb</td></tr>\n",
       "<tr><td>H2O cluster total cores:</td>\n",
       "<td>4</td></tr>\n",
       "<tr><td>H2O cluster allowed cores:</td>\n",
       "<td>4</td></tr>\n",
       "<tr><td>H2O cluster status:</td>\n",
       "<td>accepting new members, healthy</td></tr>\n",
       "<tr><td>H2O connection url:</td>\n",
       "<td>http://127.0.0.1:54321</td></tr>\n",
       "<tr><td>H2O connection proxy:</td>\n",
       "<td>None</td></tr>\n",
       "<tr><td>H2O internal security:</td>\n",
       "<td>False</td></tr>\n",
       "<tr><td>H2O API Extensions:</td>\n",
       "<td>Algos, AutoML, Core V3, Core V4</td></tr>\n",
       "<tr><td>Python version:</td>\n",
       "<td>3.6.8 final</td></tr></table></div>"
      ],
      "text/plain": [
       "--------------------------  --------------------------------\n",
       "H2O cluster uptime:         10 secs\n",
       "H2O cluster timezone:       America/New_York\n",
       "H2O data parsing timezone:  UTC\n",
       "H2O cluster version:        3.22.1.2\n",
       "H2O cluster version age:    1 year, 3 months and 22 days !!!\n",
       "H2O cluster name:           H2O_from_python_shrey_iga3e0\n",
       "H2O cluster total nodes:    1\n",
       "H2O cluster free memory:    3.539 Gb\n",
       "H2O cluster total cores:    4\n",
       "H2O cluster allowed cores:  4\n",
       "H2O cluster status:         accepting new members, healthy\n",
       "H2O connection url:         http://127.0.0.1:54321\n",
       "H2O connection proxy:\n",
       "H2O internal security:      False\n",
       "H2O API Extensions:         Algos, AutoML, Core V3, Core V4\n",
       "Python version:             3.6.8 final\n",
       "--------------------------  --------------------------------"
      ]
     },
     "metadata": {},
     "output_type": "display_data"
    }
   ],
   "source": [
    "h2o.init()"
   ]
  },
  {
   "cell_type": "code",
   "execution_count": 60,
   "metadata": {},
   "outputs": [
    {
     "name": "stdout",
     "output_type": "stream",
     "text": [
      "Parse progress: |█████████████████████████████████████████████████████████| 100%\n",
      "Parse progress: |█████████████████████████████████████████████████████████| 100%\n"
     ]
    }
   ],
   "source": [
    "Data1 = h2o.H2OFrame(Train1)\n",
    "Data2 = h2o.H2OFrame(Test1)"
   ]
  },
  {
   "cell_type": "code",
   "execution_count": 61,
   "metadata": {},
   "outputs": [
    {
     "name": "stdout",
     "output_type": "stream",
     "text": [
      "Rows:307511\n",
      "Cols:124\n",
      "\n",
      "\n"
     ]
    },
    {
     "data": {
      "text/html": [
       "<table>\n",
       "<thead>\n",
       "<tr><th>       </th><th>NAME_CONTRACT_TYPE  </th><th>FLAG_OWN_CAR       </th><th>FLAG_OWN_REALTY   </th><th>AMT_INCOME_TOTAL  </th><th>AMT_CREDIT        </th><th>AMT_GOODS_PRICE   </th><th>REGION_POPULATION_RELATIVE  </th><th>DAYS_BIRTH        </th><th>DAYS_EMPLOYED    </th><th>DAYS_REGISTRATION  </th><th>DAYS_ID_PUBLISH  </th><th>FLAG_EMP_PHONE     </th><th>FLAG_WORK_PHONE   </th><th>FLAG_PHONE         </th><th>REGION_RATING_CLIENT  </th><th>HOUR_APPR_PROCESS_START  </th><th>REG_REGION_NOT_LIVE_REGION  </th><th>REG_REGION_NOT_WORK_REGION  </th><th>REG_CITY_NOT_LIVE_CITY  </th><th>REG_CITY_NOT_WORK_CITY  </th><th>LIVE_CITY_NOT_WORK_CITY  </th><th>EXT_SOURCE_1        </th><th>EXT_SOURCE_2         </th><th>EXT_SOURCE_3         </th><th>EMERGENCYSTATE_MODE  </th><th>DAYS_LAST_PHONE_CHANGE  </th><th>FLAG_DOCUMENT_2       </th><th>FLAG_DOCUMENT_3   </th><th>FLAG_DOCUMENT_6   </th><th>FLAG_DOCUMENT_8    </th><th>FLAG_DOCUMENT_9    </th><th>FLAG_DOCUMENT_11    </th><th>FLAG_DOCUMENT_13    </th><th>FLAG_DOCUMENT_14     </th><th>FLAG_DOCUMENT_15     </th><th>FLAG_DOCUMENT_16    </th><th>FLAG_DOCUMENT_18    </th><th>FLAG_DOCUMENT_21     </th><th>NAME_TYPE_SUITE_Family  </th><th>NAME_TYPE_SUITE_Other_B  </th><th>NAME_TYPE_SUITE_Unaccompanied  </th><th>NAME_INCOME_TYPE_Commercial associate  </th><th>NAME_INCOME_TYPE_Maternity leave  </th><th>NAME_INCOME_TYPE_Pensioner  </th><th>NAME_INCOME_TYPE_State servant  </th><th>NAME_INCOME_TYPE_Unemployed  </th><th>NAME_INCOME_TYPE_Working  </th><th>NAME_EDUCATION_TYPE_Academic degree  </th><th>NAME_EDUCATION_TYPE_Higher education  </th><th>NAME_EDUCATION_TYPE_Lower secondary  </th><th>NAME_EDUCATION_TYPE_Secondary / secondary special  </th><th>NAME_FAMILY_STATUS_Civil marriage  </th><th>NAME_FAMILY_STATUS_Married  </th><th>NAME_FAMILY_STATUS_Single / not married  </th><th>NAME_FAMILY_STATUS_Widow  </th><th>NAME_HOUSING_TYPE_House / apartment  </th><th>NAME_HOUSING_TYPE_Office apartment  </th><th>NAME_HOUSING_TYPE_Rented apartment  </th><th>NAME_HOUSING_TYPE_With parents  </th><th>OCCUPATION_TYPE_Accountants  </th><th>OCCUPATION_TYPE_Cleaning staff  </th><th>OCCUPATION_TYPE_Cooking staff  </th><th>OCCUPATION_TYPE_Core staff  </th><th>OCCUPATION_TYPE_Drivers  </th><th>OCCUPATION_TYPE_High skill tech staff  </th><th>OCCUPATION_TYPE_Laborers  </th><th>OCCUPATION_TYPE_Low-skill Laborers  </th><th>OCCUPATION_TYPE_Managers  </th><th>OCCUPATION_TYPE_Medicine staff  </th><th>OCCUPATION_TYPE_Private service staff  </th><th>OCCUPATION_TYPE_Sales staff  </th><th>OCCUPATION_TYPE_Security staff  </th><th>OCCUPATION_TYPE_Waiters/barmen staff  </th><th>WEEKDAY_APPR_PROCESS_START_MONDAY  </th><th>WEEKDAY_APPR_PROCESS_START_TUESDAY  </th><th>ORGANIZATION_TYPE_Agriculture  </th><th>ORGANIZATION_TYPE_Bank  </th><th>ORGANIZATION_TYPE_Business Entity Type 3  </th><th>ORGANIZATION_TYPE_Construction  </th><th>ORGANIZATION_TYPE_Government  </th><th>ORGANIZATION_TYPE_Industry: type 1  </th><th>ORGANIZATION_TYPE_Industry: type 12  </th><th>ORGANIZATION_TYPE_Industry: type 3  </th><th>ORGANIZATION_TYPE_Industry: type 4  </th><th>ORGANIZATION_TYPE_Industry: type 9  </th><th>ORGANIZATION_TYPE_Insurance  </th><th>ORGANIZATION_TYPE_Kindergarten  </th><th>ORGANIZATION_TYPE_Medicine  </th><th>ORGANIZATION_TYPE_Military  </th><th>ORGANIZATION_TYPE_Other  </th><th>ORGANIZATION_TYPE_Police  </th><th>ORGANIZATION_TYPE_Restaurant  </th><th>ORGANIZATION_TYPE_School  </th><th>ORGANIZATION_TYPE_Security  </th><th>ORGANIZATION_TYPE_Security Ministries  </th><th>ORGANIZATION_TYPE_Self-employed  </th><th>ORGANIZATION_TYPE_Services  </th><th>ORGANIZATION_TYPE_Trade: type 3  </th><th>ORGANIZATION_TYPE_Trade: type 6  </th><th>ORGANIZATION_TYPE_Trade: type 7  </th><th>ORGANIZATION_TYPE_Transport: type 3  </th><th>ORGANIZATION_TYPE_Transport: type 4  </th><th>ORGANIZATION_TYPE_University  </th><th>ORGANIZATION_TYPE_XNA  </th><th>FONDKAPREMONT_MODE_org spec account  </th><th>FONDKAPREMONT_MODE_reg oper account  </th><th>FONDKAPREMONT_MODE_reg oper spec account  </th><th>HOUSETYPE_MODE_block of flats  </th><th>HOUSETYPE_MODE_specific housing  </th><th>WALLSMATERIAL_MODE_Block  </th><th>WALLSMATERIAL_MODE_Monolithic  </th><th>WALLSMATERIAL_MODE_Panel  </th><th>WALLSMATERIAL_MODE_Stone, brick  </th><th>WALLSMATERIAL_MODE_Wooden  </th><th>EMPLOY_AGE         </th><th>INCOME_AGE        </th><th>CREDIT_AGE        </th><th>ANNUITY_INCOME        </th><th>ANNUITY_CREDIT      </th><th>CODE_GENDER        </th><th>CNT_FAM_MEMBERS   </th><th>REGION_RATING_CLIENT_W_CITY  </th><th>OBS_30_CNT_SOCIAL_CIRCLE  </th><th>TARGET             </th></tr>\n",
       "</thead>\n",
       "<tbody>\n",
       "<tr><td>type   </td><td>int                 </td><td>int                </td><td>int               </td><td>int               </td><td>int               </td><td>int               </td><td>real                        </td><td>int               </td><td>int              </td><td>int                </td><td>int              </td><td>int                </td><td>int               </td><td>int                </td><td>int                   </td><td>int                      </td><td>int                         </td><td>int                         </td><td>int                     </td><td>int                     </td><td>int                      </td><td>real                </td><td>real                 </td><td>real                 </td><td>int                  </td><td>int                     </td><td>int                   </td><td>int               </td><td>int               </td><td>int                </td><td>int                </td><td>int                 </td><td>int                 </td><td>int                  </td><td>int                  </td><td>int                 </td><td>int                 </td><td>int                  </td><td>int                     </td><td>int                      </td><td>int                            </td><td>int                                    </td><td>int                               </td><td>int                         </td><td>int                             </td><td>int                          </td><td>int                       </td><td>int                                  </td><td>int                                   </td><td>int                                  </td><td>int                                                </td><td>int                                </td><td>int                         </td><td>int                                      </td><td>int                       </td><td>int                                  </td><td>int                                 </td><td>int                                 </td><td>int                             </td><td>int                          </td><td>int                             </td><td>int                            </td><td>int                         </td><td>int                      </td><td>int                                    </td><td>int                       </td><td>int                                 </td><td>int                       </td><td>int                             </td><td>int                                    </td><td>int                          </td><td>int                             </td><td>int                                   </td><td>int                                </td><td>int                                 </td><td>int                            </td><td>int                     </td><td>int                                       </td><td>int                             </td><td>int                           </td><td>int                                 </td><td>int                                  </td><td>int                                 </td><td>int                                 </td><td>int                                 </td><td>int                          </td><td>int                             </td><td>int                         </td><td>int                         </td><td>int                      </td><td>int                       </td><td>int                           </td><td>int                       </td><td>int                         </td><td>int                                    </td><td>int                              </td><td>int                         </td><td>int                              </td><td>int                              </td><td>int                              </td><td>int                                  </td><td>int                                  </td><td>int                           </td><td>int                    </td><td>int                                  </td><td>int                                  </td><td>int                                       </td><td>int                            </td><td>int                              </td><td>int                       </td><td>int                            </td><td>int                       </td><td>int                              </td><td>int                        </td><td>real               </td><td>real              </td><td>real              </td><td>real                  </td><td>real                </td><td>int                </td><td>int               </td><td>int                          </td><td>int                       </td><td>int                </td></tr>\n",
       "<tr><td>mins   </td><td>0.0                 </td><td>0.0                </td><td>0.0               </td><td>25650.0           </td><td>45000.0           </td><td>40500.0           </td><td>0.00029                     </td><td>20.0              </td><td>0.0              </td><td>0.0                </td><td>0.0              </td><td>0.0                </td><td>0.0               </td><td>0.0                </td><td>1.0                   </td><td>0.0                      </td><td>0.0                         </td><td>0.0                         </td><td>0.0                     </td><td>0.0                     </td><td>0.0                      </td><td>0.014568132412445587</td><td>8.173616518884396e-08</td><td>0.0005272652387098817</td><td>0.0                  </td><td>0.0                     </td><td>0.0                   </td><td>0.0               </td><td>0.0               </td><td>0.0                </td><td>0.0                </td><td>0.0                 </td><td>0.0                 </td><td>0.0                  </td><td>0.0                  </td><td>0.0                 </td><td>0.0                 </td><td>0.0                  </td><td>0.0                     </td><td>0.0                      </td><td>0.0                            </td><td>0.0                                    </td><td>0.0                               </td><td>0.0                         </td><td>0.0                             </td><td>0.0                          </td><td>0.0                       </td><td>0.0                                  </td><td>0.0                                   </td><td>0.0                                  </td><td>0.0                                                </td><td>0.0                                </td><td>0.0                         </td><td>0.0                                      </td><td>0.0                       </td><td>0.0                                  </td><td>0.0                                 </td><td>0.0                                 </td><td>0.0                             </td><td>0.0                          </td><td>0.0                             </td><td>0.0                            </td><td>0.0                         </td><td>0.0                      </td><td>0.0                                    </td><td>0.0                       </td><td>0.0                                 </td><td>0.0                       </td><td>0.0                             </td><td>0.0                                    </td><td>0.0                          </td><td>0.0                             </td><td>0.0                                   </td><td>0.0                                </td><td>0.0                                 </td><td>0.0                            </td><td>0.0                     </td><td>0.0                                       </td><td>0.0                             </td><td>0.0                           </td><td>0.0                                 </td><td>0.0                                  </td><td>0.0                                 </td><td>0.0                                 </td><td>0.0                                 </td><td>0.0                          </td><td>0.0                             </td><td>0.0                         </td><td>0.0                         </td><td>0.0                      </td><td>0.0                       </td><td>0.0                           </td><td>0.0                       </td><td>0.0                         </td><td>0.0                                    </td><td>0.0                              </td><td>0.0                         </td><td>0.0                              </td><td>0.0                              </td><td>0.0                              </td><td>0.0                                  </td><td>0.0                                  </td><td>0.0                           </td><td>0.0                    </td><td>0.0                                  </td><td>0.0                                  </td><td>0.0                                       </td><td>0.0                            </td><td>0.0                              </td><td>0.0                       </td><td>0.0                            </td><td>0.0                       </td><td>0.0                              </td><td>0.0                        </td><td>0.0                </td><td>402.9850746268657 </td><td>661.7647058823529 </td><td>0.00022388034188034188</td><td>0.01849003964992641 </td><td>0.0                </td><td>1.0               </td><td>1.0                          </td><td>0.0                       </td><td>0.0                </td></tr>\n",
       "<tr><td>mean   </td><td>0.09521285417432222 </td><td>0.34010815873253314</td><td>0.6936727466659729</td><td>168797.91793789496</td><td>599025.9512407688 </td><td>538386.8255704674 </td><td>0.020868112057780035        </td><td>43.43596814422902 </td><td>6.030343629983968</td><td>13.1686833966915   </td><td>7.713473664356726</td><td>0.8198893698111612 </td><td>0.1993684778755882</td><td>0.28106636835755466</td><td>2.0524631639193416    </td><td>12.063418869568903       </td><td>0.015144173704355291        </td><td>0.05076891558350758         </td><td>0.07817281333025486     </td><td>0.23045354475124466     </td><td>0.17955455252007246      </td><td>0.5020367271047059  </td><td>0.5143937414704621   </td><td>0.510554990498937    </td><td>0.9555365499120358   </td><td>2.225107394532227       </td><td>4.2274910491006824e-05</td><td>0.7100233812774177</td><td>0.0880553866365756</td><td>0.08137595077899652</td><td>0.00389579559755586</td><td>0.003912055178513939</td><td>0.003525077151711646</td><td>0.0029364803210291664</td><td>0.0012097128232811183</td><td>0.009928100133003373</td><td>0.008129790479039774</td><td>0.0003349473677364387</td><td>0.13056118317718715     </td><td>0.0057558916591601604    </td><td>0.8081857234375356             </td><td>0.2328924818949566                     </td><td>1.6259580958079547e-05            </td><td>0.18003258420024            </td><td>0.07057633710664009             </td><td>7.154215621555002e-05        </td><td>0.5163197414076245        </td><td>0.0005333142554250092                </td><td>0.24344820185294186                   </td><td>0.012409312187206312                 </td><td>0.7101892290031901                                 </td><td>0.0968258046053637                 </td><td>0.6387804013514964          </td><td>0.14778007941179339                      </td><td>0.05231682769071676       </td><td>0.8873438673738501                   </td><td>0.008510264673458836                </td><td>0.015872602931277256                </td><td>0.0482584362835801              </td><td>0.031911053588326924         </td><td>0.015131166039588828            </td><td>0.019335893675348197           </td><td>0.08965532940285063         </td><td>0.06049539691263077      </td><td>0.037006806260589054                   </td><td>0.1794602469505156        </td><td>0.006806260589052099                </td><td>0.0694967009310236        </td><td>0.02776160852782502             </td><td>0.008624081740165393                   </td><td>0.10439301358325394          </td><td>0.02185612872385053             </td><td>0.0043835830262982465                 </td><td>0.16491767774160923                </td><td>0.17528153464428914                 </td><td>0.007980202334225443           </td><td>0.008152553892381086    </td><td>0.22110428570034893                       </td><td>0.02185612872385053             </td><td>0.03383293605757193           </td><td>0.0033787409230889302               </td><td>0.0011999570747062707                </td><td>0.010659781276116952                </td><td>0.002851930500047153                </td><td>0.010952453733362384                </td><td>0.001941393966394698         </td><td>0.02237318339831746             </td><td>0.03639869793275688         </td><td>0.008565547248716306        </td><td>0.05425171782472822      </td><td>0.007612735804572845      </td><td>0.005889220223016412          </td><td>0.028919290692040286      </td><td>0.010558971874176858        </td><td>0.006419282562249806                   </td><td>0.12491260475235032              </td><td>0.005121768001795058        </td><td>0.011355691341122756             </td><td>0.002051959116909639             </td><td>0.02546575569654419              </td><td>0.003860024519448085                 </td><td>0.01755384360234268                  </td><td>0.004315292786274312          </td><td>0.18007160719453938    </td><td>0.018272517080689797                 </td><td>0.2400889724270026                   </td><td>0.03928314759472019                       </td><td>0.4894231425867693             </td><td>0.004874622371232248             </td><td>0.030089980521022013      </td><td>0.005785158904884703           </td><td>0.21475654529431468       </td><td>0.21077294795958518              </td><td>0.017436774619444508       </td><td>0.13787047938774613</td><td>4238.779742900294 </td><td>14679.834883772879</td><td>0.1809278237055027    </td><td>0.053694994689241264</td><td>0.34164306317497584</td><td>2.144976927654622 </td><td>2.031520823645333            </td><td>1.4013742597825773        </td><td>0.08072881945686496</td></tr>\n",
       "<tr><td>maxs   </td><td>1.0                 </td><td>1.0                </td><td>1.0               </td><td>117000000.0       </td><td>4050000.0         </td><td>4050000.0         </td><td>0.072508                    </td><td>69.0              </td><td>49.0             </td><td>67.0               </td><td>19.0             </td><td>1.0                </td><td>1.0               </td><td>1.0                </td><td>3.0                   </td><td>23.0                     </td><td>1.0                         </td><td>1.0                         </td><td>1.0                     </td><td>1.0                     </td><td>1.0                      </td><td>0.962692770561306   </td><td>0.8549996664047012   </td><td>0.8960095494948396   </td><td>2.0                  </td><td>11.0                    </td><td>1.0                   </td><td>1.0               </td><td>1.0               </td><td>1.0                </td><td>1.0                </td><td>1.0                 </td><td>1.0                 </td><td>1.0                  </td><td>1.0                  </td><td>1.0                 </td><td>1.0                 </td><td>1.0                  </td><td>1.0                     </td><td>1.0                      </td><td>1.0                            </td><td>1.0                                    </td><td>1.0                               </td><td>1.0                         </td><td>1.0                             </td><td>1.0                          </td><td>1.0                       </td><td>1.0                                  </td><td>1.0                                   </td><td>1.0                                  </td><td>1.0                                                </td><td>1.0                                </td><td>1.0                         </td><td>1.0                                      </td><td>1.0                       </td><td>1.0                                  </td><td>1.0                                 </td><td>1.0                                 </td><td>1.0                             </td><td>1.0                          </td><td>1.0                             </td><td>1.0                            </td><td>1.0                         </td><td>1.0                      </td><td>1.0                                    </td><td>1.0                       </td><td>1.0                                 </td><td>1.0                       </td><td>1.0                             </td><td>1.0                                    </td><td>1.0                          </td><td>1.0                             </td><td>1.0                                   </td><td>1.0                                </td><td>1.0                                 </td><td>1.0                            </td><td>1.0                     </td><td>1.0                                       </td><td>1.0                             </td><td>1.0                           </td><td>1.0                                 </td><td>1.0                                  </td><td>1.0                                 </td><td>1.0                                 </td><td>1.0                                 </td><td>1.0                          </td><td>1.0                             </td><td>1.0                         </td><td>1.0                         </td><td>1.0                      </td><td>1.0                       </td><td>1.0                           </td><td>1.0                       </td><td>1.0                         </td><td>1.0                                    </td><td>1.0                              </td><td>1.0                         </td><td>1.0                              </td><td>1.0                              </td><td>1.0                              </td><td>1.0                                  </td><td>1.0                                  </td><td>1.0                           </td><td>1.0                    </td><td>1.0                                  </td><td>1.0                                  </td><td>1.0                                       </td><td>1.0                            </td><td>1.0                              </td><td>1.0                       </td><td>1.0                            </td><td>1.0                       </td><td>1.0                              </td><td>1.0                        </td><td>0.7313432835820896 </td><td>3441176.470588235 </td><td>130645.16129032258</td><td>1.8759454191033136    </td><td>0.17412698412698413 </td><td>1.0                </td><td>5.0               </td><td>3.0                          </td><td>17.0                      </td><td>1.0                </td></tr>\n",
       "<tr><td>sigma  </td><td>0.293509193585531   </td><td>0.4737460595519284 </td><td>0.4609680663599124</td><td>237123.14627989946</td><td>402490.77117502195</td><td>369279.55795927765</td><td>0.013831280122704698        </td><td>11.954592927321372</td><td>5.809768709126186</td><td>9.646841252158278  </td><td>4.134515129666392</td><td>0.38428019893876436</td><td>0.3995262281502265</td><td>0.4495205468567584 </td><td>0.5090339028156797    </td><td>3.2658322554378723       </td><td>0.12212647628215205         </td><td>0.21952582879696067         </td><td>0.2684437723734045      </td><td>0.4211238359138973      </td><td>0.38381661538559586      </td><td>0.1393950061821161  </td><td>0.19085501274132688  </td><td>0.1744652301703639   </td><td>0.9952164395704691   </td><td>2.1936777365269284      </td><td>0.006501789045489791  </td><td>0.4537519684327392</td><td>0.2833758928629899</td><td>0.27341204894451304</td><td>0.06229471080039369</td><td>0.06242406326684518 </td><td>0.0592677180737531  </td><td>0.05410976737642879  </td><td>0.03475993882769259  </td><td>0.09914416233784906 </td><td>0.08979823610939557 </td><td>0.01829853182243764  </td><td>0.3369203611640279      </td><td>0.07564905802697777      </td><td>0.3937284139963012             </td><td>0.4226749989532175                     </td><td>0.004032290844943284              </td><td>0.3842152168754201          </td><td>0.25611624520599924             </td><td>0.008457970830444056         </td><td>0.49973440761666726       </td><td>0.02308747636065808                  </td><td>0.4291640406781579                    </td><td>0.11070393403873989                  </td><td>0.4536751671892551                                 </td><td>0.29572090313457894                </td><td>0.48035481734890545         </td><td>0.35488242713913165                      </td><td>0.2226655304731769        </td><td>0.31617250589803864                  </td><td>0.09185786579212739                 </td><td>0.12498285564315097                 </td><td>0.21431217644036937             </td><td>0.175763587549106            </td><td>0.1220748226080191              </td><td>0.13770286327529324            </td><td>0.2856877958993718          </td><td>0.23840278666693626      </td><td>0.1887787552689082                     </td><td>0.3837378604921164        </td><td>0.08221896003149701                 </td><td>0.2542973058897427        </td><td>0.16428934655725017             </td><td>0.09246477576528929                    </td><td>0.3057702018469405           </td><td>0.1462139113838794              </td><td>0.0660634650828459                    </td><td>0.37110683793855                   </td><td>0.3802083486048087                  </td><td>0.08897496529288078            </td><td>0.08992283387874643     </td><td>0.4149912536222257                        </td><td>0.1462139113838794              </td><td>0.18079926657802417           </td><td>0.05802875134929219                 </td><td>0.034619663129718974                 </td><td>0.10269461833305031                 </td><td>0.05332734983373553                 </td><td>0.10407945386611846                 </td><td>0.0440185331068222           </td><td>0.14789420269609743             </td><td>0.1872803961419674          </td><td>0.0921531674170203          </td><td>0.22651409622621232      </td><td>0.08691839060717019       </td><td>0.07651507267661585           </td><td>0.1675800007210173        </td><td>0.10221308116663451         </td><td>0.07986298338197634                    </td><td>0.33062032816003084              </td><td>0.0713831357159316          </td><td>0.10595648221710158              </td><td>0.04525212967165845              </td><td>0.15753517603135772              </td><td>0.062009170565500836                 </td><td>0.13132312157004455                  </td><td>0.06554910378412952           </td><td>0.38424771126230567    </td><td>0.13393539687231268                  </td><td>0.4271379765928307                   </td><td>0.1942681256342094                        </td><td>0.4998889303686961             </td><td>0.06964823186996924              </td><td>0.1708352086057279        </td><td>0.07584002601138357            </td><td>0.41065401488363135       </td><td>0.4078581289107643               </td><td>0.13089228099742892        </td><td>0.12436324576128971</td><td>6895.494271940468 </td><td>10545.124849159896</td><td>0.09457233653336206   </td><td>0.02248217225976131 </td><td>0.4742613330145959 </td><td>0.8909056349303012</td><td>0.5027370329147689           </td><td>2.254574932018545         </td><td>0.27241864564839396</td></tr>\n",
       "<tr><td>zeros  </td><td>278232              </td><td>202924             </td><td>94199             </td><td>0                 </td><td>0                 </td><td>0                 </td><td>0                           </td><td>0                 </td><td>27904            </td><td>16857              </td><td>14907            </td><td>55386              </td><td>246203            </td><td>221080             </td><td>0                     </td><td>40                       </td><td>302854                      </td><td>291899                      </td><td>283472                  </td><td>236644                  </td><td>252296                   </td><td>0                   </td><td>0                    </td><td>0                    </td><td>159428               </td><td>92452                   </td><td>307498                </td><td>89171             </td><td>280433            </td><td>282487             </td><td>306313             </td><td>306308              </td><td>306427              </td><td>306608               </td><td>307139               </td><td>304458              </td><td>305011              </td><td>307408               </td><td>267362                  </td><td>305741                   </td><td>58985                          </td><td>235894                                 </td><td>307506                            </td><td>252149                      </td><td>285808                          </td><td>307489                       </td><td>148737                    </td><td>307347                               </td><td>232648                                </td><td>303695                               </td><td>89120                                              </td><td>277736                             </td><td>111079                      </td><td>262067                                   </td><td>291423                    </td><td>34643                                </td><td>304894                              </td><td>302630                              </td><td>292671                          </td><td>297698                       </td><td>302858                          </td><td>301565                         </td><td>279941                      </td><td>288908                   </td><td>296131                                 </td><td>252325                    </td><td>305418                              </td><td>286140                    </td><td>298974                          </td><td>304859                                 </td><td>275409                       </td><td>300790                          </td><td>306163                                </td><td>256797                             </td><td>253610                              </td><td>305057                         </td><td>305004                  </td><td>239519                                    </td><td>300790                          </td><td>297107                        </td><td>306472                              </td><td>307142                               </td><td>304233                              </td><td>306634                              </td><td>304143                              </td><td>306914                       </td><td>300631                          </td><td>296318                      </td><td>304877                      </td><td>290828                   </td><td>305170                    </td><td>305700                        </td><td>298618                    </td><td>304264                      </td><td>305537                                 </td><td>269099                           </td><td>305936                      </td><td>304019                           </td><td>306880                           </td><td>299680                           </td><td>306324                               </td><td>302113                               </td><td>306184                        </td><td>252137                 </td><td>301892                               </td><td>233681                               </td><td>295431                                    </td><td>157008                         </td><td>306012                           </td><td>298258                    </td><td>305732                         </td><td>241471                    </td><td>242696                           </td><td>302149                     </td><td>27904              </td><td>0                 </td><td>0                 </td><td>0                     </td><td>0                   </td><td>202452             </td><td>0                 </td><td>0                            </td><td>165153                    </td><td>282686             </td></tr>\n",
       "<tr><td>missing</td><td>0                   </td><td>0                  </td><td>0                 </td><td>0                 </td><td>0                 </td><td>0                 </td><td>0                           </td><td>0                 </td><td>0                </td><td>0                  </td><td>0                </td><td>0                  </td><td>0                 </td><td>0                  </td><td>0                     </td><td>0                        </td><td>0                           </td><td>0                           </td><td>0                       </td><td>0                       </td><td>0                        </td><td>0                   </td><td>0                    </td><td>0                    </td><td>0                    </td><td>0                       </td><td>0                     </td><td>0                 </td><td>0                 </td><td>0                  </td><td>0                  </td><td>0                   </td><td>0                   </td><td>0                    </td><td>0                    </td><td>0                   </td><td>0                   </td><td>0                    </td><td>0                       </td><td>0                        </td><td>0                              </td><td>0                                      </td><td>0                                 </td><td>0                           </td><td>0                               </td><td>0                            </td><td>0                         </td><td>0                                    </td><td>0                                     </td><td>0                                    </td><td>0                                                  </td><td>0                                  </td><td>0                           </td><td>0                                        </td><td>0                         </td><td>0                                    </td><td>0                                   </td><td>0                                   </td><td>0                               </td><td>0                            </td><td>0                               </td><td>0                              </td><td>0                           </td><td>0                        </td><td>0                                      </td><td>0                         </td><td>0                                   </td><td>0                         </td><td>0                               </td><td>0                                      </td><td>0                            </td><td>0                               </td><td>0                                     </td><td>0                                  </td><td>0                                   </td><td>0                              </td><td>0                       </td><td>0                                         </td><td>0                               </td><td>0                             </td><td>0                                   </td><td>0                                    </td><td>0                                   </td><td>0                                   </td><td>0                                   </td><td>0                            </td><td>0                               </td><td>0                           </td><td>0                           </td><td>0                        </td><td>0                         </td><td>0                             </td><td>0                         </td><td>0                           </td><td>0                                      </td><td>0                                </td><td>0                           </td><td>0                                </td><td>0                                </td><td>0                                </td><td>0                                    </td><td>0                                    </td><td>0                             </td><td>0                      </td><td>0                                    </td><td>0                                    </td><td>0                                         </td><td>0                              </td><td>0                                </td><td>0                         </td><td>0                              </td><td>0                         </td><td>0                                </td><td>0                          </td><td>0                  </td><td>0                 </td><td>0                 </td><td>0                     </td><td>0                   </td><td>0                  </td><td>0                 </td><td>0                            </td><td>0                         </td><td>0                  </td></tr>\n",
       "<tr><td>0      </td><td>0.0                 </td><td>0.0                </td><td>1.0               </td><td>202500.0          </td><td>406597.0          </td><td>351000.0          </td><td>0.018801                    </td><td>25.0              </td><td>1.0              </td><td>9.0                </td><td>5.0              </td><td>1.0                </td><td>0.0               </td><td>1.0                </td><td>2.0                   </td><td>10.0                     </td><td>0.0                         </td><td>0.0                         </td><td>0.0                     </td><td>0.0                     </td><td>0.0                      </td><td>0.08303696739132256 </td><td>0.2629485927471776   </td><td>0.13937578009978951  </td><td>0.0                  </td><td>3.0                     </td><td>0.0                   </td><td>1.0               </td><td>0.0               </td><td>0.0                </td><td>0.0                </td><td>0.0                 </td><td>0.0                 </td><td>0.0                  </td><td>0.0                  </td><td>0.0                 </td><td>0.0                 </td><td>0.0                  </td><td>0.0                     </td><td>0.0                      </td><td>1.0                            </td><td>0.0                                    </td><td>0.0                               </td><td>0.0                         </td><td>0.0                             </td><td>0.0                          </td><td>1.0                       </td><td>0.0                                  </td><td>0.0                                   </td><td>0.0                                  </td><td>1.0                                                </td><td>0.0                                </td><td>0.0                         </td><td>1.0                                      </td><td>0.0                       </td><td>1.0                                  </td><td>0.0                                 </td><td>0.0                                 </td><td>0.0                             </td><td>0.0                          </td><td>0.0                             </td><td>0.0                            </td><td>0.0                         </td><td>0.0                      </td><td>0.0                                    </td><td>1.0                       </td><td>0.0                                 </td><td>0.0                       </td><td>0.0                             </td><td>0.0                                    </td><td>0.0                          </td><td>0.0                             </td><td>0.0                                   </td><td>0.0                                </td><td>0.0                                 </td><td>0.0                            </td><td>0.0                     </td><td>1.0                                       </td><td>0.0                             </td><td>0.0                           </td><td>0.0                                 </td><td>0.0                                  </td><td>0.0                                 </td><td>0.0                                 </td><td>0.0                                 </td><td>0.0                          </td><td>0.0                             </td><td>0.0                         </td><td>0.0                         </td><td>0.0                      </td><td>0.0                       </td><td>0.0                           </td><td>0.0                       </td><td>0.0                         </td><td>0.0                                    </td><td>0.0                              </td><td>0.0                         </td><td>0.0                              </td><td>0.0                              </td><td>0.0                              </td><td>0.0                                  </td><td>0.0                                  </td><td>0.0                           </td><td>0.0                    </td><td>0.0                                  </td><td>1.0                                  </td><td>0.0                                       </td><td>1.0                            </td><td>0.0                              </td><td>0.0                       </td><td>0.0                            </td><td>0.0                       </td><td>1.0                              </td><td>0.0                        </td><td>0.04               </td><td>8100.0            </td><td>16263.88          </td><td>0.12197530864197532   </td><td>0.0607481117666879  </td><td>1.0                </td><td>1.0               </td><td>2.0                          </td><td>2.0                       </td><td>1.0                </td></tr>\n",
       "<tr><td>1      </td><td>0.0                 </td><td>0.0                </td><td>0.0               </td><td>270000.0          </td><td>1293502.0         </td><td>1129500.0         </td><td>0.003540999999999999        </td><td>45.0              </td><td>3.0              </td><td>3.0                </td><td>0.0              </td><td>1.0                </td><td>0.0               </td><td>1.0                </td><td>1.0                   </td><td>11.0                     </td><td>0.0                         </td><td>0.0                         </td><td>0.0                     </td><td>0.0                     </td><td>0.0                      </td><td>0.3112673113812225  </td><td>0.6222457752555098   </td><td>0.5093502021860536   </td><td>0.0                  </td><td>2.0                     </td><td>0.0                   </td><td>1.0               </td><td>0.0               </td><td>0.0                </td><td>0.0                </td><td>0.0                 </td><td>0.0                 </td><td>0.0                  </td><td>0.0                  </td><td>0.0                 </td><td>0.0                 </td><td>0.0                  </td><td>1.0                     </td><td>0.0                      </td><td>0.0                            </td><td>0.0                                    </td><td>0.0                               </td><td>0.0                         </td><td>1.0                             </td><td>0.0                          </td><td>0.0                       </td><td>0.0                                  </td><td>1.0                                   </td><td>0.0                                  </td><td>0.0                                                </td><td>0.0                                </td><td>1.0                         </td><td>0.0                                      </td><td>0.0                       </td><td>1.0                                  </td><td>0.0                                 </td><td>0.0                                 </td><td>0.0                             </td><td>0.0                          </td><td>0.0                             </td><td>0.0                            </td><td>1.0                         </td><td>0.0                      </td><td>0.0                                    </td><td>0.0                       </td><td>0.0                                 </td><td>0.0                       </td><td>0.0                             </td><td>0.0                                    </td><td>0.0                          </td><td>0.0                             </td><td>0.0                                   </td><td>1.0                                </td><td>0.0                                 </td><td>0.0                            </td><td>0.0                     </td><td>0.0                                       </td><td>0.0                             </td><td>0.0                           </td><td>0.0                                 </td><td>0.0                                  </td><td>0.0                                 </td><td>0.0                                 </td><td>0.0                                 </td><td>0.0                          </td><td>0.0                             </td><td>0.0                         </td><td>0.0                         </td><td>0.0                      </td><td>0.0                       </td><td>0.0                           </td><td>1.0                       </td><td>0.0                         </td><td>0.0                                    </td><td>0.0                              </td><td>0.0                         </td><td>0.0                              </td><td>0.0                              </td><td>0.0                              </td><td>0.0                                  </td><td>0.0                                  </td><td>0.0                           </td><td>0.0                    </td><td>0.0                                  </td><td>1.0                                  </td><td>0.0                                       </td><td>1.0                            </td><td>0.0                              </td><td>1.0                       </td><td>0.0                            </td><td>0.0                       </td><td>0.0                              </td><td>0.0                        </td><td>0.06666666666666667</td><td>6000.0            </td><td>28744.48888888889 </td><td>0.1322148148148148    </td><td>0.02759794727800962 </td><td>0.0                </td><td>2.0               </td><td>1.0                          </td><td>1.0                       </td><td>0.0                </td></tr>\n",
       "<tr><td>2      </td><td>1.0                 </td><td>1.0                </td><td>1.0               </td><td>67500.0           </td><td>135000.0          </td><td>135000.0          </td><td>0.010032                    </td><td>52.0              </td><td>0.0              </td><td>11.0               </td><td>6.0              </td><td>1.0                </td><td>1.0               </td><td>1.0                </td><td>2.0                   </td><td>9.0                      </td><td>0.0                         </td><td>0.0                         </td><td>0.0                     </td><td>0.0                     </td><td>0.0                      </td><td>0.5019647173606232  </td><td>0.5559120833904428   </td><td>0.7295666907060153   </td><td>2.0                  </td><td>2.0                     </td><td>0.0                   </td><td>0.0               </td><td>0.0               </td><td>0.0                </td><td>0.0                </td><td>0.0                 </td><td>0.0                 </td><td>0.0                  </td><td>0.0                  </td><td>0.0                 </td><td>0.0                 </td><td>0.0                  </td><td>0.0                     </td><td>0.0                      </td><td>1.0                            </td><td>0.0                                    </td><td>0.0                               </td><td>0.0                         </td><td>0.0                             </td><td>0.0                          </td><td>1.0                       </td><td>0.0                                  </td><td>0.0                                   </td><td>0.0                                  </td><td>1.0                                                </td><td>0.0                                </td><td>0.0                         </td><td>1.0                                      </td><td>0.0                       </td><td>1.0                                  </td><td>0.0                                 </td><td>0.0                                 </td><td>0.0                             </td><td>0.0                          </td><td>0.0                             </td><td>0.0                            </td><td>0.0                         </td><td>0.0                      </td><td>0.0                                    </td><td>1.0                       </td><td>0.0                                 </td><td>0.0                       </td><td>0.0                             </td><td>0.0                                    </td><td>0.0                          </td><td>0.0                             </td><td>0.0                                   </td><td>1.0                                </td><td>0.0                                 </td><td>0.0                            </td><td>0.0                     </td><td>0.0                                       </td><td>0.0                             </td><td>1.0                           </td><td>0.0                                 </td><td>0.0                                  </td><td>0.0                                 </td><td>0.0                                 </td><td>0.0                                 </td><td>0.0                          </td><td>0.0                             </td><td>0.0                         </td><td>0.0                         </td><td>0.0                      </td><td>0.0                       </td><td>0.0                           </td><td>0.0                       </td><td>0.0                         </td><td>0.0                                    </td><td>0.0                              </td><td>0.0                         </td><td>0.0                              </td><td>0.0                              </td><td>0.0                              </td><td>0.0                                  </td><td>0.0                                  </td><td>0.0                           </td><td>0.0                    </td><td>0.0                                  </td><td>0.0                                  </td><td>0.0                                       </td><td>0.0                            </td><td>0.0                              </td><td>0.0                       </td><td>0.0                            </td><td>0.0                       </td><td>0.0                              </td><td>0.0                        </td><td>0.0                </td><td>1298.076923076923 </td><td>2596.153846153846 </td><td>0.1                   </td><td>0.05                </td><td>1.0                </td><td>1.0               </td><td>2.0                          </td><td>0.0                       </td><td>0.0                </td></tr>\n",
       "<tr><td>3      </td><td>0.0                 </td><td>0.0                </td><td>1.0               </td><td>135000.0          </td><td>312682.0          </td><td>297000.0          </td><td>0.008019                    </td><td>52.0              </td><td>8.0              </td><td>26.0               </td><td>6.0              </td><td>1.0                </td><td>0.0               </td><td>0.0                </td><td>2.0                   </td><td>17.0                     </td><td>0.0                         </td><td>0.0                         </td><td>0.0                     </td><td>0.0                     </td><td>0.0                      </td><td>0.5019647173606232  </td><td>0.6504416904014653   </td><td>0.5093502021860536   </td><td>2.0                  </td><td>1.0                     </td><td>0.0                   </td><td>1.0               </td><td>0.0               </td><td>0.0                </td><td>0.0                </td><td>0.0                 </td><td>0.0                 </td><td>0.0                  </td><td>0.0                  </td><td>0.0                 </td><td>0.0                 </td><td>0.0                  </td><td>0.0                     </td><td>0.0                      </td><td>1.0                            </td><td>0.0                                    </td><td>0.0                               </td><td>0.0                         </td><td>0.0                             </td><td>0.0                          </td><td>1.0                       </td><td>0.0                                  </td><td>0.0                                   </td><td>0.0                                  </td><td>1.0                                                </td><td>1.0                                </td><td>0.0                         </td><td>0.0                                      </td><td>0.0                       </td><td>1.0                                  </td><td>0.0                                 </td><td>0.0                                 </td><td>0.0                             </td><td>0.0                          </td><td>0.0                             </td><td>0.0                            </td><td>0.0                         </td><td>0.0                      </td><td>0.0                                    </td><td>1.0                       </td><td>0.0                                 </td><td>0.0                       </td><td>0.0                             </td><td>0.0                                    </td><td>0.0                          </td><td>0.0                             </td><td>0.0                                   </td><td>0.0                                </td><td>0.0                                 </td><td>0.0                            </td><td>0.0                     </td><td>1.0                                       </td><td>0.0                             </td><td>0.0                           </td><td>0.0                                 </td><td>0.0                                  </td><td>0.0                                 </td><td>0.0                                 </td><td>0.0                                 </td><td>0.0                          </td><td>0.0                             </td><td>0.0                         </td><td>0.0                         </td><td>0.0                      </td><td>0.0                       </td><td>0.0                           </td><td>0.0                       </td><td>0.0                         </td><td>0.0                                    </td><td>0.0                              </td><td>0.0                         </td><td>0.0                              </td><td>0.0                              </td><td>0.0                              </td><td>0.0                                  </td><td>0.0                                  </td><td>0.0                           </td><td>0.0                    </td><td>0.0                                  </td><td>0.0                                  </td><td>0.0                                       </td><td>0.0                            </td><td>0.0                              </td><td>0.0                       </td><td>0.0                            </td><td>0.0                       </td><td>0.0                              </td><td>0.0                        </td><td>0.15384615384615383</td><td>2596.153846153846 </td><td>6013.115384615385 </td><td>0.21989629629629628   </td><td>0.09493990699816426 </td><td>0.0                </td><td>2.0               </td><td>2.0                          </td><td>2.0                       </td><td>0.0                </td></tr>\n",
       "<tr><td>4      </td><td>0.0                 </td><td>0.0                </td><td>1.0               </td><td>121500.0          </td><td>513000.0          </td><td>513000.0          </td><td>0.028663                    </td><td>54.0              </td><td>8.0              </td><td>11.0               </td><td>9.0              </td><td>1.0                </td><td>0.0               </td><td>0.0                </td><td>2.0                   </td><td>11.0                     </td><td>0.0                         </td><td>0.0                         </td><td>0.0                     </td><td>1.0                     </td><td>1.0                      </td><td>0.5019647173606232  </td><td>0.3227382869704046   </td><td>0.5093502021860536   </td><td>2.0                  </td><td>3.0                     </td><td>0.0                   </td><td>0.0               </td><td>0.0               </td><td>1.0                </td><td>0.0                </td><td>0.0                 </td><td>0.0                 </td><td>0.0                  </td><td>0.0                  </td><td>0.0                 </td><td>0.0                 </td><td>0.0                  </td><td>0.0                     </td><td>0.0                      </td><td>1.0                            </td><td>0.0                                    </td><td>0.0                               </td><td>0.0                         </td><td>0.0                             </td><td>0.0                          </td><td>1.0                       </td><td>0.0                                  </td><td>0.0                                   </td><td>0.0                                  </td><td>1.0                                                </td><td>0.0                                </td><td>0.0                         </td><td>1.0                                      </td><td>0.0                       </td><td>1.0                                  </td><td>0.0                                 </td><td>0.0                                 </td><td>0.0                             </td><td>0.0                          </td><td>0.0                             </td><td>0.0                            </td><td>1.0                         </td><td>0.0                      </td><td>0.0                                    </td><td>0.0                       </td><td>0.0                                 </td><td>0.0                       </td><td>0.0                             </td><td>0.0                                    </td><td>0.0                          </td><td>0.0                             </td><td>0.0                                   </td><td>0.0                                </td><td>0.0                                 </td><td>0.0                            </td><td>0.0                     </td><td>0.0                                       </td><td>0.0                             </td><td>0.0                           </td><td>0.0                                 </td><td>0.0                                  </td><td>0.0                                 </td><td>0.0                                 </td><td>0.0                                 </td><td>0.0                          </td><td>0.0                             </td><td>0.0                         </td><td>0.0                         </td><td>0.0                      </td><td>0.0                       </td><td>0.0                           </td><td>0.0                       </td><td>0.0                         </td><td>0.0                                    </td><td>0.0                              </td><td>0.0                         </td><td>0.0                              </td><td>0.0                              </td><td>0.0                              </td><td>0.0                                  </td><td>0.0                                  </td><td>0.0                           </td><td>0.0                    </td><td>0.0                                  </td><td>0.0                                  </td><td>0.0                                       </td><td>0.0                            </td><td>0.0                              </td><td>0.0                       </td><td>0.0                            </td><td>0.0                       </td><td>0.0                              </td><td>0.0                        </td><td>0.14814814814814814</td><td>2250.0            </td><td>9500.0            </td><td>0.17995884773662552   </td><td>0.042621832358674464</td><td>1.0                </td><td>1.0               </td><td>2.0                          </td><td>0.0                       </td><td>0.0                </td></tr>\n",
       "<tr><td>5      </td><td>0.0                 </td><td>0.0                </td><td>1.0               </td><td>99000.0           </td><td>490495.0          </td><td>454500.0          </td><td>0.035792000000000004        </td><td>46.0              </td><td>4.0              </td><td>13.0               </td><td>1.0              </td><td>1.0                </td><td>1.0               </td><td>1.0                </td><td>2.0                   </td><td>16.0                     </td><td>0.0                         </td><td>0.0                         </td><td>0.0                     </td><td>0.0                     </td><td>0.0                      </td><td>0.5019647173606232  </td><td>0.3542247319929012   </td><td>0.6212263380626669   </td><td>2.0                  </td><td>6.0                     </td><td>0.0                   </td><td>1.0               </td><td>0.0               </td><td>0.0                </td><td>0.0                </td><td>0.0                 </td><td>0.0                 </td><td>0.0                  </td><td>0.0                  </td><td>0.0                 </td><td>0.0                 </td><td>0.0                  </td><td>0.0                     </td><td>0.0                      </td><td>0.0                            </td><td>0.0                                    </td><td>0.0                               </td><td>0.0                         </td><td>1.0                             </td><td>0.0                          </td><td>0.0                       </td><td>0.0                                  </td><td>0.0                                   </td><td>0.0                                  </td><td>1.0                                                </td><td>0.0                                </td><td>1.0                         </td><td>0.0                                      </td><td>0.0                       </td><td>1.0                                  </td><td>0.0                                 </td><td>0.0                                 </td><td>0.0                             </td><td>0.0                          </td><td>0.0                             </td><td>0.0                            </td><td>0.0                         </td><td>0.0                      </td><td>0.0                                    </td><td>1.0                       </td><td>0.0                                 </td><td>0.0                       </td><td>0.0                             </td><td>0.0                                    </td><td>0.0                          </td><td>0.0                             </td><td>0.0                                   </td><td>0.0                                </td><td>0.0                                 </td><td>0.0                            </td><td>0.0                     </td><td>0.0                                       </td><td>0.0                             </td><td>0.0                           </td><td>0.0                                 </td><td>0.0                                  </td><td>0.0                                 </td><td>0.0                                 </td><td>0.0                                 </td><td>0.0                          </td><td>0.0                             </td><td>0.0                         </td><td>0.0                         </td><td>1.0                      </td><td>0.0                       </td><td>0.0                           </td><td>0.0                       </td><td>0.0                         </td><td>0.0                                    </td><td>0.0                              </td><td>0.0                         </td><td>0.0                              </td><td>0.0                              </td><td>0.0                              </td><td>0.0                                  </td><td>0.0                                  </td><td>0.0                           </td><td>0.0                    </td><td>0.0                                  </td><td>0.0                                  </td><td>0.0                                       </td><td>0.0                            </td><td>0.0                              </td><td>0.0                       </td><td>0.0                            </td><td>0.0                       </td><td>0.0                              </td><td>0.0                        </td><td>0.08695652173913043</td><td>2152.1739130434785</td><td>10662.934782608696</td><td>0.27794949494949495   </td><td>0.056100469933434594</td><td>1.0                </td><td>2.0               </td><td>2.0                          </td><td>0.0                       </td><td>0.0                </td></tr>\n",
       "<tr><td>6      </td><td>0.0                 </td><td>1.0                </td><td>1.0               </td><td>171000.0          </td><td>1560726.0         </td><td>1395000.0         </td><td>0.035792000000000004        </td><td>37.0              </td><td>8.0              </td><td>3.0                </td><td>1.0              </td><td>1.0                </td><td>0.0               </td><td>1.0                </td><td>2.0                   </td><td>16.0                     </td><td>0.0                         </td><td>0.0                         </td><td>0.0                     </td><td>0.0                     </td><td>0.0                      </td><td>0.7747614130547695  </td><td>0.7239998516953141   </td><td>0.4920600938649263   </td><td>2.0                  </td><td>4.0                     </td><td>0.0                   </td><td>0.0               </td><td>0.0               </td><td>1.0                </td><td>0.0                </td><td>0.0                 </td><td>0.0                 </td><td>1.0                  </td><td>0.0                  </td><td>0.0                 </td><td>0.0                 </td><td>0.0                  </td><td>0.0                     </td><td>0.0                      </td><td>1.0                            </td><td>1.0                                    </td><td>0.0                               </td><td>0.0                         </td><td>0.0                             </td><td>0.0                          </td><td>0.0                       </td><td>0.0                                  </td><td>1.0                                   </td><td>0.0                                  </td><td>0.0                                                </td><td>0.0                                </td><td>1.0                         </td><td>0.0                                      </td><td>0.0                       </td><td>1.0                                  </td><td>0.0                                 </td><td>0.0                                 </td><td>0.0                             </td><td>1.0                          </td><td>0.0                             </td><td>0.0                            </td><td>0.0                         </td><td>0.0                      </td><td>0.0                                    </td><td>0.0                       </td><td>0.0                                 </td><td>0.0                       </td><td>0.0                             </td><td>0.0                                    </td><td>0.0                          </td><td>0.0                             </td><td>0.0                                   </td><td>0.0                                </td><td>0.0                                 </td><td>0.0                            </td><td>0.0                     </td><td>1.0                                       </td><td>0.0                             </td><td>0.0                           </td><td>0.0                                 </td><td>0.0                                  </td><td>0.0                                 </td><td>0.0                                 </td><td>0.0                                 </td><td>0.0                          </td><td>0.0                             </td><td>0.0                         </td><td>0.0                         </td><td>0.0                      </td><td>0.0                       </td><td>0.0                           </td><td>0.0                       </td><td>0.0                         </td><td>0.0                                    </td><td>0.0                              </td><td>0.0                         </td><td>0.0                              </td><td>0.0                              </td><td>0.0                              </td><td>0.0                                  </td><td>0.0                                  </td><td>0.0                           </td><td>0.0                    </td><td>0.0                                  </td><td>0.0                                  </td><td>0.0                                       </td><td>0.0                            </td><td>0.0                              </td><td>0.0                       </td><td>0.0                            </td><td>0.0                       </td><td>0.0                              </td><td>0.0                        </td><td>0.21621621621621623</td><td>4621.621621621622 </td><td>42181.78378378379 </td><td>0.24152631578947367   </td><td>0.0264626846736711  </td><td>0.0                </td><td>3.0               </td><td>2.0                          </td><td>1.0                       </td><td>0.0                </td></tr>\n",
       "<tr><td>7      </td><td>0.0                 </td><td>1.0                </td><td>1.0               </td><td>360000.0          </td><td>1530000.0         </td><td>1530000.0         </td><td>0.003122                    </td><td>51.0              </td><td>1.0              </td><td>12.0               </td><td>6.0              </td><td>1.0                </td><td>1.0               </td><td>0.0                </td><td>3.0                   </td><td>16.0                     </td><td>0.0                         </td><td>0.0                         </td><td>0.0                     </td><td>1.0                     </td><td>1.0                      </td><td>0.5019647173606232  </td><td>0.7142792864482229   </td><td>0.5406544504453575   </td><td>2.0                  </td><td>2.0                     </td><td>0.0                   </td><td>1.0               </td><td>0.0               </td><td>0.0                </td><td>0.0                </td><td>0.0                 </td><td>0.0                 </td><td>0.0                  </td><td>0.0                  </td><td>0.0                 </td><td>0.0                 </td><td>0.0                  </td><td>0.0                     </td><td>0.0                      </td><td>1.0                            </td><td>0.0                                    </td><td>0.0                               </td><td>0.0                         </td><td>1.0                             </td><td>0.0                          </td><td>0.0                       </td><td>0.0                                  </td><td>1.0                                   </td><td>0.0                                  </td><td>0.0                                                </td><td>0.0                                </td><td>1.0                         </td><td>0.0                                      </td><td>0.0                       </td><td>1.0                                  </td><td>0.0                                 </td><td>0.0                                 </td><td>0.0                             </td><td>0.0                          </td><td>0.0                             </td><td>0.0                            </td><td>0.0                         </td><td>0.0                      </td><td>0.0                                    </td><td>0.0                       </td><td>0.0                                 </td><td>1.0                       </td><td>0.0                             </td><td>0.0                                    </td><td>0.0                          </td><td>0.0                             </td><td>0.0                                   </td><td>1.0                                </td><td>0.0                                 </td><td>0.0                            </td><td>0.0                     </td><td>0.0                                       </td><td>0.0                             </td><td>0.0                           </td><td>0.0                                 </td><td>0.0                                  </td><td>0.0                                 </td><td>0.0                                 </td><td>0.0                                 </td><td>0.0                          </td><td>0.0                             </td><td>0.0                         </td><td>0.0                         </td><td>1.0                      </td><td>0.0                       </td><td>0.0                           </td><td>0.0                       </td><td>0.0                         </td><td>0.0                                    </td><td>0.0                              </td><td>0.0                         </td><td>0.0                              </td><td>0.0                              </td><td>0.0                              </td><td>0.0                                  </td><td>0.0                                  </td><td>0.0                           </td><td>0.0                    </td><td>0.0                                  </td><td>0.0                                  </td><td>0.0                                       </td><td>0.0                            </td><td>0.0                              </td><td>0.0                       </td><td>0.0                            </td><td>0.0                       </td><td>0.0                              </td><td>0.0                        </td><td>0.0196078431372549 </td><td>7058.823529411765 </td><td>30000.0           </td><td>0.116875              </td><td>0.0275              </td><td>1.0                </td><td>2.0               </td><td>3.0                          </td><td>2.0                       </td><td>0.0                </td></tr>\n",
       "<tr><td>8      </td><td>0.0                 </td><td>0.0                </td><td>1.0               </td><td>112500.0          </td><td>1019610.0         </td><td>913500.0          </td><td>0.018634                    </td><td>55.0              </td><td>6.0              </td><td>20.0               </td><td>9.0              </td><td>0.0                </td><td>0.0               </td><td>0.0                </td><td>2.0                   </td><td>14.0                     </td><td>0.0                         </td><td>0.0                         </td><td>0.0                     </td><td>0.0                     </td><td>0.0                      </td><td>0.5873340468730377  </td><td>0.20574728800732817  </td><td>0.7517237147741489   </td><td>2.0                  </td><td>0.0                     </td><td>0.0                   </td><td>1.0               </td><td>0.0               </td><td>0.0                </td><td>0.0                </td><td>0.0                 </td><td>0.0                 </td><td>0.0                  </td><td>0.0                  </td><td>0.0                 </td><td>0.0                 </td><td>0.0                  </td><td>0.0                     </td><td>0.0                      </td><td>0.0                            </td><td>0.0                                    </td><td>0.0                               </td><td>1.0                         </td><td>0.0                             </td><td>0.0                          </td><td>0.0                       </td><td>0.0                                  </td><td>0.0                                   </td><td>0.0                                  </td><td>1.0                                                </td><td>0.0                                </td><td>1.0                         </td><td>0.0                                      </td><td>0.0                       </td><td>1.0                                  </td><td>0.0                                 </td><td>0.0                                 </td><td>0.0                             </td><td>0.0                          </td><td>0.0                             </td><td>0.0                            </td><td>0.0                         </td><td>0.0                      </td><td>0.0                                    </td><td>0.0                       </td><td>0.0                                 </td><td>0.0                       </td><td>0.0                             </td><td>0.0                                    </td><td>0.0                          </td><td>0.0                             </td><td>0.0                                   </td><td>0.0                                </td><td>0.0                                 </td><td>0.0                            </td><td>0.0                     </td><td>0.0                                       </td><td>0.0                             </td><td>0.0                           </td><td>0.0                                 </td><td>0.0                                  </td><td>0.0                                 </td><td>0.0                                 </td><td>0.0                                 </td><td>0.0                          </td><td>0.0                             </td><td>0.0                         </td><td>0.0                         </td><td>0.0                      </td><td>0.0                       </td><td>0.0                           </td><td>0.0                       </td><td>0.0                         </td><td>0.0                                    </td><td>0.0                              </td><td>0.0                         </td><td>0.0                              </td><td>0.0                              </td><td>0.0                              </td><td>0.0                                  </td><td>0.0                                  </td><td>0.0                           </td><td>1.0                    </td><td>0.0                                  </td><td>0.0                                  </td><td>0.0                                       </td><td>0.0                            </td><td>0.0                              </td><td>0.0                       </td><td>0.0                            </td><td>0.0                       </td><td>0.0                              </td><td>0.0                        </td><td>0.10909090909090909</td><td>2045.4545454545455</td><td>18538.363636363636</td><td>0.30067555555555553   </td><td>0.033175429821206144</td><td>0.0                </td><td>2.0               </td><td>2.0                          </td><td>1.0                       </td><td>0.0                </td></tr>\n",
       "<tr><td>9      </td><td>1.0                 </td><td>0.0                </td><td>1.0               </td><td>135000.0          </td><td>405000.0          </td><td>405000.0          </td><td>0.019689                    </td><td>39.0              </td><td>5.0              </td><td>39.0               </td><td>10.0             </td><td>1.0                </td><td>0.0               </td><td>0.0                </td><td>2.0                   </td><td>8.0                      </td><td>0.0                         </td><td>0.0                         </td><td>0.0                     </td><td>0.0                     </td><td>0.0                      </td><td>0.5019647173606232  </td><td>0.7466436294590924   </td><td>0.5093502021860536   </td><td>2.0                  </td><td>4.0                     </td><td>0.0                   </td><td>0.0               </td><td>0.0               </td><td>0.0                </td><td>0.0                </td><td>0.0                 </td><td>0.0                 </td><td>0.0                  </td><td>0.0                  </td><td>0.0                 </td><td>0.0                 </td><td>0.0                  </td><td>0.0                     </td><td>0.0                      </td><td>1.0                            </td><td>0.0                                    </td><td>0.0                               </td><td>0.0                         </td><td>0.0                             </td><td>0.0                          </td><td>1.0                       </td><td>0.0                                  </td><td>0.0                                   </td><td>0.0                                  </td><td>1.0                                                </td><td>0.0                                </td><td>0.0                         </td><td>1.0                                      </td><td>0.0                       </td><td>1.0                                  </td><td>0.0                                 </td><td>0.0                                 </td><td>0.0                             </td><td>0.0                          </td><td>0.0                             </td><td>0.0                            </td><td>0.0                         </td><td>0.0                      </td><td>0.0                                    </td><td>1.0                       </td><td>0.0                                 </td><td>0.0                       </td><td>0.0                             </td><td>0.0                                    </td><td>0.0                          </td><td>0.0                             </td><td>0.0                                   </td><td>0.0                                </td><td>0.0                                 </td><td>0.0                            </td><td>0.0                     </td><td>0.0                                       </td><td>0.0                             </td><td>0.0                           </td><td>0.0                                 </td><td>0.0                                  </td><td>0.0                                 </td><td>0.0                                 </td><td>0.0                                 </td><td>0.0                          </td><td>0.0                             </td><td>0.0                         </td><td>0.0                         </td><td>0.0                      </td><td>0.0                       </td><td>0.0                           </td><td>0.0                       </td><td>0.0                         </td><td>0.0                                    </td><td>0.0                              </td><td>0.0                         </td><td>0.0                              </td><td>0.0                              </td><td>0.0                              </td><td>0.0                                  </td><td>0.0                                  </td><td>0.0                           </td><td>0.0                    </td><td>0.0                                  </td><td>0.0                                  </td><td>0.0                                       </td><td>0.0                            </td><td>0.0                              </td><td>0.0                       </td><td>0.0                            </td><td>0.0                       </td><td>0.0                              </td><td>0.0                        </td><td>0.1282051282051282 </td><td>3461.5384615384614</td><td>10384.615384615385</td><td>0.15                  </td><td>0.05                </td><td>1.0                </td><td>1.0               </td><td>2.0                          </td><td>2.0                       </td><td>0.0                </td></tr>\n",
       "</tbody>\n",
       "</table>"
      ]
     },
     "metadata": {},
     "output_type": "display_data"
    }
   ],
   "source": [
    "Data1.describe()"
   ]
  },
  {
   "cell_type": "code",
   "execution_count": 62,
   "metadata": {},
   "outputs": [],
   "source": [
    "Data_split = Data1.split_frame(ratios = [0.8], seed = 1234)\n",
    "Data_train = Data_split[0] # using 80% for training\n",
    "Data_test = Data_split[1] #rest 20% for testing"
   ]
  },
  {
   "cell_type": "code",
   "execution_count": 63,
   "metadata": {},
   "outputs": [],
   "source": [
    "predictors = list(Data1.columns) \n",
    "predictors.remove('TARGET')"
   ]
  },
  {
   "cell_type": "code",
   "execution_count": 64,
   "metadata": {},
   "outputs": [
    {
     "name": "stdout",
     "output_type": "stream",
     "text": [
      "glm Model Build progress: |███████████████████████████████████████████████| 100%\n"
     ]
    }
   ],
   "source": [
    "glm = H2OGeneralizedLinearEstimator(family = 'binomial', model_id = 'glm_default')\n",
    "glm.train(x = predictors, \n",
    "          y = 'TARGET', \n",
    "          training_frame = Data_train)"
   ]
  },
  {
   "cell_type": "code",
   "execution_count": 65,
   "metadata": {},
   "outputs": [
    {
     "name": "stdout",
     "output_type": "stream",
     "text": [
      "Model Details\n",
      "=============\n",
      "H2OGeneralizedLinearEstimator :  Generalized Linear Modeling\n",
      "Model Key:  glm_default\n",
      "\n",
      "\n",
      "ModelMetricsBinomialGLM: glm\n",
      "** Reported on train data. **\n",
      "\n",
      "MSE: 0.06858940088914667\n",
      "RMSE: 0.26189578249591317\n",
      "LogLoss: 0.24933094117266502\n",
      "Null degrees of freedom: 246176\n",
      "Residual degrees of freedom: 246063\n",
      "Null deviance: 138207.7233402899\n",
      "Residual deviance: 122759.08621012633\n",
      "AIC: 122987.08621012633\n",
      "AUC: 0.7482968335594452\n",
      "pr_auc: 0.22690875349610168\n",
      "Gini: 0.4965936671188904\n",
      "Confusion Matrix (Act/Pred) for max f1 @ threshold = 0.1444679154913154: \n"
     ]
    },
    {
     "data": {
      "text/html": [
       "<div style=\"overflow:auto\"><table style=\"width:50%\"><tr><td><b></b></td>\n",
       "<td><b>0</b></td>\n",
       "<td><b>1</b></td>\n",
       "<td><b>Error</b></td>\n",
       "<td><b>Rate</b></td></tr>\n",
       "<tr><td>0</td>\n",
       "<td>198698.0</td>\n",
       "<td>27589.0</td>\n",
       "<td>0.1219</td>\n",
       "<td> (27589.0/226287.0)</td></tr>\n",
       "<tr><td>1</td>\n",
       "<td>11622.0</td>\n",
       "<td>8268.0</td>\n",
       "<td>0.5843</td>\n",
       "<td> (11622.0/19890.0)</td></tr>\n",
       "<tr><td>Total</td>\n",
       "<td>210320.0</td>\n",
       "<td>35857.0</td>\n",
       "<td>0.1593</td>\n",
       "<td> (39211.0/246177.0)</td></tr></table></div>"
      ],
      "text/plain": [
       "       0       1      Error    Rate\n",
       "-----  ------  -----  -------  ------------------\n",
       "0      198698  27589  0.1219   (27589.0/226287.0)\n",
       "1      11622   8268   0.5843   (11622.0/19890.0)\n",
       "Total  210320  35857  0.1593   (39211.0/246177.0)"
      ]
     },
     "metadata": {},
     "output_type": "display_data"
    },
    {
     "name": "stdout",
     "output_type": "stream",
     "text": [
      "Maximum Metrics: Maximum metrics at their respective thresholds\n",
      "\n"
     ]
    },
    {
     "data": {
      "text/html": [
       "<div style=\"overflow:auto\"><table style=\"width:50%\"><tr><td><b>metric</b></td>\n",
       "<td><b>threshold</b></td>\n",
       "<td><b>value</b></td>\n",
       "<td><b>idx</b></td></tr>\n",
       "<tr><td>max f1</td>\n",
       "<td>0.1444679</td>\n",
       "<td>0.2966258</td>\n",
       "<td>200.0</td></tr>\n",
       "<tr><td>max f2</td>\n",
       "<td>0.0834824</td>\n",
       "<td>0.4124082</td>\n",
       "<td>270.0</td></tr>\n",
       "<tr><td>max f0point5</td>\n",
       "<td>0.2139436</td>\n",
       "<td>0.2799311</td>\n",
       "<td>146.0</td></tr>\n",
       "<tr><td>max accuracy</td>\n",
       "<td>0.6164101</td>\n",
       "<td>0.9192695</td>\n",
       "<td>12.0</td></tr>\n",
       "<tr><td>max precision</td>\n",
       "<td>0.6164101</td>\n",
       "<td>0.6176471</td>\n",
       "<td>12.0</td></tr>\n",
       "<tr><td>max recall</td>\n",
       "<td>0.0045849</td>\n",
       "<td>1.0</td>\n",
       "<td>398.0</td></tr>\n",
       "<tr><td>max specificity</td>\n",
       "<td>0.9999472</td>\n",
       "<td>0.9999956</td>\n",
       "<td>0.0</td></tr>\n",
       "<tr><td>max absolute_mcc</td>\n",
       "<td>0.1435824</td>\n",
       "<td>0.2270198</td>\n",
       "<td>201.0</td></tr>\n",
       "<tr><td>max min_per_class_accuracy</td>\n",
       "<td>0.0803377</td>\n",
       "<td>0.6826243</td>\n",
       "<td>274.0</td></tr>\n",
       "<tr><td>max mean_per_class_accuracy</td>\n",
       "<td>0.0834824</td>\n",
       "<td>0.6832343</td>\n",
       "<td>270.0</td></tr></table></div>"
      ],
      "text/plain": [
       "metric                       threshold    value     idx\n",
       "---------------------------  -----------  --------  -----\n",
       "max f1                       0.144468     0.296626  200\n",
       "max f2                       0.0834824    0.412408  270\n",
       "max f0point5                 0.213944     0.279931  146\n",
       "max accuracy                 0.61641      0.919269  12\n",
       "max precision                0.61641      0.617647  12\n",
       "max recall                   0.00458491   1         398\n",
       "max specificity              0.999947     0.999996  0\n",
       "max absolute_mcc             0.143582     0.22702   201\n",
       "max min_per_class_accuracy   0.0803377    0.682624  274\n",
       "max mean_per_class_accuracy  0.0834824    0.683234  270"
      ]
     },
     "metadata": {},
     "output_type": "display_data"
    },
    {
     "name": "stdout",
     "output_type": "stream",
     "text": [
      "Gains/Lift Table: Avg response rate:  8.08 %, avg score:  8.08 %\n",
      "\n"
     ]
    },
    {
     "data": {
      "text/html": [
       "<div style=\"overflow:auto\"><table style=\"width:50%\"><tr><td><b></b></td>\n",
       "<td><b>group</b></td>\n",
       "<td><b>cumulative_data_fraction</b></td>\n",
       "<td><b>lower_threshold</b></td>\n",
       "<td><b>lift</b></td>\n",
       "<td><b>cumulative_lift</b></td>\n",
       "<td><b>response_rate</b></td>\n",
       "<td><b>score</b></td>\n",
       "<td><b>cumulative_response_rate</b></td>\n",
       "<td><b>cumulative_score</b></td>\n",
       "<td><b>capture_rate</b></td>\n",
       "<td><b>cumulative_capture_rate</b></td>\n",
       "<td><b>gain</b></td>\n",
       "<td><b>cumulative_gain</b></td></tr>\n",
       "<tr><td></td>\n",
       "<td>1</td>\n",
       "<td>0.0100009</td>\n",
       "<td>0.3762244</td>\n",
       "<td>5.4394114</td>\n",
       "<td>5.4394114</td>\n",
       "<td>0.4394801</td>\n",
       "<td>0.4489267</td>\n",
       "<td>0.4394801</td>\n",
       "<td>0.4489267</td>\n",
       "<td>0.0543992</td>\n",
       "<td>0.0543992</td>\n",
       "<td>443.9411360</td>\n",
       "<td>443.9411360</td></tr>\n",
       "<tr><td></td>\n",
       "<td>2</td>\n",
       "<td>0.0200019</td>\n",
       "<td>0.3147056</td>\n",
       "<td>4.0167187</td>\n",
       "<td>4.7280651</td>\n",
       "<td>0.3245329</td>\n",
       "<td>0.3421092</td>\n",
       "<td>0.3820065</td>\n",
       "<td>0.3955180</td>\n",
       "<td>0.0401709</td>\n",
       "<td>0.0945701</td>\n",
       "<td>301.6718740</td>\n",
       "<td>372.8065050</td></tr>\n",
       "<tr><td></td>\n",
       "<td>3</td>\n",
       "<td>0.0300028</td>\n",
       "<td>0.2797358</td>\n",
       "<td>3.7000062</td>\n",
       "<td>4.3853788</td>\n",
       "<td>0.2989439</td>\n",
       "<td>0.2958442</td>\n",
       "<td>0.3543190</td>\n",
       "<td>0.3622934</td>\n",
       "<td>0.0370035</td>\n",
       "<td>0.1315737</td>\n",
       "<td>270.0006249</td>\n",
       "<td>338.5378783</td></tr>\n",
       "<tr><td></td>\n",
       "<td>4</td>\n",
       "<td>0.0400037</td>\n",
       "<td>0.2540659</td>\n",
       "<td>3.2475598</td>\n",
       "<td>4.1009240</td>\n",
       "<td>0.2623883</td>\n",
       "<td>0.2665744</td>\n",
       "<td>0.3313363</td>\n",
       "<td>0.3383636</td>\n",
       "<td>0.0324786</td>\n",
       "<td>0.1640523</td>\n",
       "<td>224.7559833</td>\n",
       "<td>310.0924045</td></tr>\n",
       "<tr><td></td>\n",
       "<td>5</td>\n",
       "<td>0.0500006</td>\n",
       "<td>0.2342002</td>\n",
       "<td>3.0225643</td>\n",
       "<td>3.8853222</td>\n",
       "<td>0.2442097</td>\n",
       "<td>0.2438231</td>\n",
       "<td>0.3139166</td>\n",
       "<td>0.3194617</td>\n",
       "<td>0.0302162</td>\n",
       "<td>0.1942685</td>\n",
       "<td>202.2564311</td>\n",
       "<td>288.5322185</td></tr>\n",
       "<tr><td></td>\n",
       "<td>6</td>\n",
       "<td>0.1000012</td>\n",
       "<td>0.1748776</td>\n",
       "<td>2.5680934</td>\n",
       "<td>3.2267078</td>\n",
       "<td>0.2074905</td>\n",
       "<td>0.2012061</td>\n",
       "<td>0.2607036</td>\n",
       "<td>0.2603339</td>\n",
       "<td>0.1284062</td>\n",
       "<td>0.3226747</td>\n",
       "<td>156.8093390</td>\n",
       "<td>222.6707787</td></tr>\n",
       "<tr><td></td>\n",
       "<td>7</td>\n",
       "<td>0.1500018</td>\n",
       "<td>0.1416018</td>\n",
       "<td>2.0140529</td>\n",
       "<td>2.8224895</td>\n",
       "<td>0.1627265</td>\n",
       "<td>0.1571629</td>\n",
       "<td>0.2280445</td>\n",
       "<td>0.2259435</td>\n",
       "<td>0.1007039</td>\n",
       "<td>0.4233786</td>\n",
       "<td>101.4052882</td>\n",
       "<td>182.2489485</td></tr>\n",
       "<tr><td></td>\n",
       "<td>8</td>\n",
       "<td>0.2000024</td>\n",
       "<td>0.1194324</td>\n",
       "<td>1.6229063</td>\n",
       "<td>2.5225937</td>\n",
       "<td>0.1311236</td>\n",
       "<td>0.1298500</td>\n",
       "<td>0.2038143</td>\n",
       "<td>0.2019202</td>\n",
       "<td>0.0811463</td>\n",
       "<td>0.5045249</td>\n",
       "<td>62.2906316</td>\n",
       "<td>152.2593693</td></tr>\n",
       "<tr><td></td>\n",
       "<td>9</td>\n",
       "<td>0.2999996</td>\n",
       "<td>0.0901258</td>\n",
       "<td>1.2840989</td>\n",
       "<td>2.1097733</td>\n",
       "<td>0.1037494</td>\n",
       "<td>0.1035747</td>\n",
       "<td>0.1704602</td>\n",
       "<td>0.1691392</td>\n",
       "<td>0.1284062</td>\n",
       "<td>0.6329311</td>\n",
       "<td>28.4098856</td>\n",
       "<td>110.9773261</td></tr>\n",
       "<tr><td></td>\n",
       "<td>10</td>\n",
       "<td>0.4000008</td>\n",
       "<td>0.0704954</td>\n",
       "<td>0.9999878</td>\n",
       "<td>1.8323241</td>\n",
       "<td>0.0807945</td>\n",
       "<td>0.0797275</td>\n",
       "<td>0.1480436</td>\n",
       "<td>0.1467861</td>\n",
       "<td>0.1</td>\n",
       "<td>0.7329311</td>\n",
       "<td>-0.0012186</td>\n",
       "<td>83.2324081</td></tr>\n",
       "<tr><td></td>\n",
       "<td>11</td>\n",
       "<td>0.5000020</td>\n",
       "<td>0.0562507</td>\n",
       "<td>0.7737462</td>\n",
       "<td>1.6206068</td>\n",
       "<td>0.0625152</td>\n",
       "<td>0.0630743</td>\n",
       "<td>0.1309378</td>\n",
       "<td>0.1300436</td>\n",
       "<td>0.0773756</td>\n",
       "<td>0.8103067</td>\n",
       "<td>-22.6253773</td>\n",
       "<td>62.0606790</td></tr>\n",
       "<tr><td></td>\n",
       "<td>12</td>\n",
       "<td>0.5999992</td>\n",
       "<td>0.0449572</td>\n",
       "<td>0.6440605</td>\n",
       "<td>1.4578535</td>\n",
       "<td>0.0520372</td>\n",
       "<td>0.0503891</td>\n",
       "<td>0.1177880</td>\n",
       "<td>0.1167682</td>\n",
       "<td>0.0644042</td>\n",
       "<td>0.8747109</td>\n",
       "<td>-35.5939454</td>\n",
       "<td>45.7853491</td></tr>\n",
       "<tr><td></td>\n",
       "<td>13</td>\n",
       "<td>0.7000004</td>\n",
       "<td>0.0355858</td>\n",
       "<td>0.4660577</td>\n",
       "<td>1.3161667</td>\n",
       "<td>0.0376554</td>\n",
       "<td>0.0401716</td>\n",
       "<td>0.1063404</td>\n",
       "<td>0.1058257</td>\n",
       "<td>0.0466063</td>\n",
       "<td>0.9213172</td>\n",
       "<td>-53.3942331</td>\n",
       "<td>31.6166729</td></tr>\n",
       "<tr><td></td>\n",
       "<td>14</td>\n",
       "<td>0.7999976</td>\n",
       "<td>0.0270274</td>\n",
       "<td>0.3690402</td>\n",
       "<td>1.1977789</td>\n",
       "<td>0.0298168</td>\n",
       "<td>0.0312720</td>\n",
       "<td>0.0967752</td>\n",
       "<td>0.0965067</td>\n",
       "<td>0.0369030</td>\n",
       "<td>0.9582202</td>\n",
       "<td>-63.0959843</td>\n",
       "<td>19.7778913</td></tr>\n",
       "<tr><td></td>\n",
       "<td>15</td>\n",
       "<td>0.8999988</td>\n",
       "<td>0.0187163</td>\n",
       "<td>0.2564071</td>\n",
       "<td>1.0931806</td>\n",
       "<td>0.0207165</td>\n",
       "<td>0.0228852</td>\n",
       "<td>0.0883241</td>\n",
       "<td>0.0883264</td>\n",
       "<td>0.0256410</td>\n",
       "<td>0.9838612</td>\n",
       "<td>-74.3592868</td>\n",
       "<td>9.3180632</td></tr>\n",
       "<tr><td></td>\n",
       "<td>16</td>\n",
       "<td>1.0</td>\n",
       "<td>0.0008574</td>\n",
       "<td>0.1613857</td>\n",
       "<td>1.0</td>\n",
       "<td>0.0130392</td>\n",
       "<td>0.0133177</td>\n",
       "<td>0.0807955</td>\n",
       "<td>0.0808255</td>\n",
       "<td>0.0161388</td>\n",
       "<td>1.0</td>\n",
       "<td>-83.8614335</td>\n",
       "<td>0.0</td></tr></table></div>"
      ],
      "text/plain": [
       "    group    cumulative_data_fraction    lower_threshold    lift      cumulative_lift    response_rate    score      cumulative_response_rate    cumulative_score    capture_rate    cumulative_capture_rate    gain         cumulative_gain\n",
       "--  -------  --------------------------  -----------------  --------  -----------------  ---------------  ---------  --------------------------  ------------------  --------------  -------------------------  -----------  -----------------\n",
       "    1        0.0100009                   0.376224           5.43941   5.43941            0.43948          0.448927   0.43948                     0.448927            0.0543992       0.0543992                  443.941      443.941\n",
       "    2        0.0200019                   0.314706           4.01672   4.72807            0.324533         0.342109   0.382006                    0.395518            0.0401709       0.0945701                  301.672      372.807\n",
       "    3        0.0300028                   0.279736           3.70001   4.38538            0.298944         0.295844   0.354319                    0.362293            0.0370035       0.131574                   270.001      338.538\n",
       "    4        0.0400037                   0.254066           3.24756   4.10092            0.262388         0.266574   0.331336                    0.338364            0.0324786       0.164052                   224.756      310.092\n",
       "    5        0.0500006                   0.2342             3.02256   3.88532            0.24421          0.243823   0.313917                    0.319462            0.0302162       0.194268                   202.256      288.532\n",
       "    6        0.100001                    0.174878           2.56809   3.22671            0.20749          0.201206   0.260704                    0.260334            0.128406        0.322675                   156.809      222.671\n",
       "    7        0.150002                    0.141602           2.01405   2.82249            0.162726         0.157163   0.228045                    0.225944            0.100704        0.423379                   101.405      182.249\n",
       "    8        0.200002                    0.119432           1.62291   2.52259            0.131124         0.12985    0.203814                    0.20192             0.0811463       0.504525                   62.2906      152.259\n",
       "    9        0.3                         0.0901258          1.2841    2.10977            0.103749         0.103575   0.17046                     0.169139            0.128406        0.632931                   28.4099      110.977\n",
       "    10       0.400001                    0.0704954          0.999988  1.83232            0.0807945        0.0797275  0.148044                    0.146786            0.1             0.732931                   -0.00121862  83.2324\n",
       "    11       0.500002                    0.0562507          0.773746  1.62061            0.0625152        0.0630743  0.130938                    0.130044            0.0773756       0.810307                   -22.6254     62.0607\n",
       "    12       0.599999                    0.0449572          0.644061  1.45785            0.0520372        0.0503891  0.117788                    0.116768            0.0644042       0.874711                   -35.5939     45.7853\n",
       "    13       0.7                         0.0355858          0.466058  1.31617            0.0376554        0.0401716  0.10634                     0.105826            0.0466063       0.921317                   -53.3942     31.6167\n",
       "    14       0.799998                    0.0270274          0.36904   1.19778            0.0298168        0.031272   0.0967752                   0.0965067           0.036903        0.95822                    -63.096      19.7779\n",
       "    15       0.899999                    0.0187163          0.256407  1.09318            0.0207165        0.0228852  0.0883241                   0.0883264           0.025641        0.983861                   -74.3593     9.31806\n",
       "    16       1                           0.000857415        0.161386  1                  0.0130392        0.0133177  0.0807955                   0.0808255           0.0161388       1                          -83.8614     0"
      ]
     },
     "metadata": {},
     "output_type": "display_data"
    },
    {
     "name": "stdout",
     "output_type": "stream",
     "text": [
      "\n",
      "Scoring History: \n"
     ]
    },
    {
     "data": {
      "text/html": [
       "<div style=\"overflow:auto\"><table style=\"width:50%\"><tr><td><b></b></td>\n",
       "<td><b>timestamp</b></td>\n",
       "<td><b>duration</b></td>\n",
       "<td><b>iterations</b></td>\n",
       "<td><b>negative_log_likelihood</b></td>\n",
       "<td><b>objective</b></td></tr>\n",
       "<tr><td></td>\n",
       "<td>2020-05-11 17:20:02</td>\n",
       "<td> 0.000 sec</td>\n",
       "<td>0</td>\n",
       "<td>69103.8616701</td>\n",
       "<td>0.2807080</td></tr>\n",
       "<tr><td></td>\n",
       "<td>2020-05-11 17:20:04</td>\n",
       "<td> 1.201 sec</td>\n",
       "<td>1</td>\n",
       "<td>62597.1428885</td>\n",
       "<td>0.2546201</td></tr>\n",
       "<tr><td></td>\n",
       "<td>2020-05-11 17:20:04</td>\n",
       "<td> 1.657 sec</td>\n",
       "<td>2</td>\n",
       "<td>61410.2587755</td>\n",
       "<td>0.2497866</td></tr>\n",
       "<tr><td></td>\n",
       "<td>2020-05-11 17:20:06</td>\n",
       "<td> 3.481 sec</td>\n",
       "<td>3</td>\n",
       "<td>61400.8078643</td>\n",
       "<td>0.2497501</td></tr>\n",
       "<tr><td></td>\n",
       "<td>2020-05-11 17:20:07</td>\n",
       "<td> 4.202 sec</td>\n",
       "<td>4</td>\n",
       "<td>61382.4965025</td>\n",
       "<td>0.2496851</td></tr>\n",
       "<tr><td></td>\n",
       "<td>2020-05-11 17:20:08</td>\n",
       "<td> 5.221 sec</td>\n",
       "<td>5</td>\n",
       "<td>61379.5431051</td>\n",
       "<td>0.2496741</td></tr></table></div>"
      ],
      "text/plain": [
       "    timestamp            duration    iterations    negative_log_likelihood    objective\n",
       "--  -------------------  ----------  ------------  -------------------------  -----------\n",
       "    2020-05-11 17:20:02  0.000 sec   0             69103.9                    0.280708\n",
       "    2020-05-11 17:20:04  1.201 sec   1             62597.1                    0.25462\n",
       "    2020-05-11 17:20:04  1.657 sec   2             61410.3                    0.249787\n",
       "    2020-05-11 17:20:06  3.481 sec   3             61400.8                    0.24975\n",
       "    2020-05-11 17:20:07  4.202 sec   4             61382.5                    0.249685\n",
       "    2020-05-11 17:20:08  5.221 sec   5             61379.5                    0.249674"
      ]
     },
     "metadata": {},
     "output_type": "display_data"
    },
    {
     "data": {
      "text/plain": []
     },
     "execution_count": 65,
     "metadata": {},
     "output_type": "execute_result"
    }
   ],
   "source": [
    "glm"
   ]
  },
  {
   "cell_type": "code",
   "execution_count": 66,
   "metadata": {},
   "outputs": [
    {
     "name": "stdout",
     "output_type": "stream",
     "text": [
      "\n",
      "ModelMetricsBinomialGLM: glm\n",
      "** Reported on test data. **\n",
      "\n",
      "MSE: 0.06857551753065963\n",
      "RMSE: 0.2618692756522988\n",
      "LogLoss: 0.24888324938917716\n",
      "Null degrees of freedom: 61333\n",
      "Residual degrees of freedom: 61220\n",
      "Null deviance: 34334.13607841234\n",
      "Residual deviance: 30530.01043607158\n",
      "AIC: 30758.01043607158\n",
      "AUC: 0.7499241644058984\n",
      "pr_auc: 0.21890728777808757\n",
      "Gini: 0.49984832881179675\n",
      "Confusion Matrix (Act/Pred) for max f1 @ threshold = 0.13033579592557806: \n"
     ]
    },
    {
     "data": {
      "text/html": [
       "<div style=\"overflow:auto\"><table style=\"width:50%\"><tr><td><b></b></td>\n",
       "<td><b>0</b></td>\n",
       "<td><b>1</b></td>\n",
       "<td><b>Error</b></td>\n",
       "<td><b>Rate</b></td></tr>\n",
       "<tr><td>0</td>\n",
       "<td>48178.0</td>\n",
       "<td>8221.0</td>\n",
       "<td>0.1458</td>\n",
       "<td> (8221.0/56399.0)</td></tr>\n",
       "<tr><td>1</td>\n",
       "<td>2649.0</td>\n",
       "<td>2286.0</td>\n",
       "<td>0.5368</td>\n",
       "<td> (2649.0/4935.0)</td></tr>\n",
       "<tr><td>Total</td>\n",
       "<td>50827.0</td>\n",
       "<td>10507.0</td>\n",
       "<td>0.1772</td>\n",
       "<td> (10870.0/61334.0)</td></tr></table></div>"
      ],
      "text/plain": [
       "       0      1      Error    Rate\n",
       "-----  -----  -----  -------  -----------------\n",
       "0      48178  8221   0.1458   (8221.0/56399.0)\n",
       "1      2649   2286   0.5368   (2649.0/4935.0)\n",
       "Total  50827  10507  0.1772   (10870.0/61334.0)"
      ]
     },
     "metadata": {},
     "output_type": "display_data"
    },
    {
     "name": "stdout",
     "output_type": "stream",
     "text": [
      "Maximum Metrics: Maximum metrics at their respective thresholds\n",
      "\n"
     ]
    },
    {
     "data": {
      "text/html": [
       "<div style=\"overflow:auto\"><table style=\"width:50%\"><tr><td><b>metric</b></td>\n",
       "<td><b>threshold</b></td>\n",
       "<td><b>value</b></td>\n",
       "<td><b>idx</b></td></tr>\n",
       "<tr><td>max f1</td>\n",
       "<td>0.1303358</td>\n",
       "<td>0.2960756</td>\n",
       "<td>208.0</td></tr>\n",
       "<tr><td>max f2</td>\n",
       "<td>0.0833837</td>\n",
       "<td>0.4129406</td>\n",
       "<td>265.0</td></tr>\n",
       "<tr><td>max f0point5</td>\n",
       "<td>0.2029516</td>\n",
       "<td>0.2750625</td>\n",
       "<td>145.0</td></tr>\n",
       "<tr><td>max accuracy</td>\n",
       "<td>0.6455541</td>\n",
       "<td>0.9195878</td>\n",
       "<td>4.0</td></tr>\n",
       "<tr><td>max precision</td>\n",
       "<td>0.6455541</td>\n",
       "<td>0.7142857</td>\n",
       "<td>4.0</td></tr>\n",
       "<tr><td>max recall</td>\n",
       "<td>0.0066525</td>\n",
       "<td>1.0</td>\n",
       "<td>396.0</td></tr>\n",
       "<tr><td>max specificity</td>\n",
       "<td>0.9836915</td>\n",
       "<td>0.9999823</td>\n",
       "<td>0.0</td></tr>\n",
       "<tr><td>max absolute_mcc</td>\n",
       "<td>0.1288468</td>\n",
       "<td>0.2293287</td>\n",
       "<td>210.0</td></tr>\n",
       "<tr><td>max min_per_class_accuracy</td>\n",
       "<td>0.0796471</td>\n",
       "<td>0.6813064</td>\n",
       "<td>271.0</td></tr>\n",
       "<tr><td>max mean_per_class_accuracy</td>\n",
       "<td>0.0674680</td>\n",
       "<td>0.6845432</td>\n",
       "<td>288.0</td></tr></table></div>"
      ],
      "text/plain": [
       "metric                       threshold    value     idx\n",
       "---------------------------  -----------  --------  -----\n",
       "max f1                       0.130336     0.296076  208\n",
       "max f2                       0.0833837    0.412941  265\n",
       "max f0point5                 0.202952     0.275063  145\n",
       "max accuracy                 0.645554     0.919588  4\n",
       "max precision                0.645554     0.714286  4\n",
       "max recall                   0.00665251   1         396\n",
       "max specificity              0.983691     0.999982  0\n",
       "max absolute_mcc             0.128847     0.229329  210\n",
       "max min_per_class_accuracy   0.0796471    0.681306  271\n",
       "max mean_per_class_accuracy  0.067468     0.684543  288"
      ]
     },
     "metadata": {},
     "output_type": "display_data"
    },
    {
     "name": "stdout",
     "output_type": "stream",
     "text": [
      "Gains/Lift Table: Avg response rate:  8.05 %, avg score:  7.99 %\n",
      "\n"
     ]
    },
    {
     "data": {
      "text/html": [
       "<div style=\"overflow:auto\"><table style=\"width:50%\"><tr><td><b></b></td>\n",
       "<td><b>group</b></td>\n",
       "<td><b>cumulative_data_fraction</b></td>\n",
       "<td><b>lower_threshold</b></td>\n",
       "<td><b>lift</b></td>\n",
       "<td><b>cumulative_lift</b></td>\n",
       "<td><b>response_rate</b></td>\n",
       "<td><b>score</b></td>\n",
       "<td><b>cumulative_response_rate</b></td>\n",
       "<td><b>cumulative_score</b></td>\n",
       "<td><b>capture_rate</b></td>\n",
       "<td><b>cumulative_capture_rate</b></td>\n",
       "<td><b>gain</b></td>\n",
       "<td><b>cumulative_gain</b></td></tr>\n",
       "<tr><td></td>\n",
       "<td>1</td>\n",
       "<td>0.0100108</td>\n",
       "<td>0.3674163</td>\n",
       "<td>4.8377527</td>\n",
       "<td>4.8377527</td>\n",
       "<td>0.3892508</td>\n",
       "<td>0.4423319</td>\n",
       "<td>0.3892508</td>\n",
       "<td>0.4423319</td>\n",
       "<td>0.0484296</td>\n",
       "<td>0.0484296</td>\n",
       "<td>383.7752674</td>\n",
       "<td>383.7752674</td></tr>\n",
       "<tr><td></td>\n",
       "<td>2</td>\n",
       "<td>0.0200052</td>\n",
       "<td>0.3123262</td>\n",
       "<td>4.2576794</td>\n",
       "<td>4.5479524</td>\n",
       "<td>0.3425775</td>\n",
       "<td>0.3374337</td>\n",
       "<td>0.3659332</td>\n",
       "<td>0.3899255</td>\n",
       "<td>0.0425532</td>\n",
       "<td>0.0909828</td>\n",
       "<td>325.7679359</td>\n",
       "<td>354.7952395</td></tr>\n",
       "<tr><td></td>\n",
       "<td>3</td>\n",
       "<td>0.0299997</td>\n",
       "<td>0.2763115</td>\n",
       "<td>3.5075168</td>\n",
       "<td>4.2013290</td>\n",
       "<td>0.2822186</td>\n",
       "<td>0.2932219</td>\n",
       "<td>0.3380435</td>\n",
       "<td>0.3577085</td>\n",
       "<td>0.0350557</td>\n",
       "<td>0.1260385</td>\n",
       "<td>250.7516805</td>\n",
       "<td>320.1329016</td></tr>\n",
       "<tr><td></td>\n",
       "<td>4</td>\n",
       "<td>0.0400104</td>\n",
       "<td>0.2502803</td>\n",
       "<td>3.2993878</td>\n",
       "<td>3.9756599</td>\n",
       "<td>0.2654723</td>\n",
       "<td>0.2626066</td>\n",
       "<td>0.3198859</td>\n",
       "<td>0.3339136</td>\n",
       "<td>0.0330294</td>\n",
       "<td>0.1590679</td>\n",
       "<td>229.9387807</td>\n",
       "<td>297.5659944</td></tr>\n",
       "<tr><td></td>\n",
       "<td>5</td>\n",
       "<td>0.0500049</td>\n",
       "<td>0.2300449</td>\n",
       "<td>2.8790022</td>\n",
       "<td>3.7564714</td>\n",
       "<td>0.2316476</td>\n",
       "<td>0.2396278</td>\n",
       "<td>0.3022498</td>\n",
       "<td>0.3150688</td>\n",
       "<td>0.0287741</td>\n",
       "<td>0.1878419</td>\n",
       "<td>187.9002233</td>\n",
       "<td>275.6471429</td></tr>\n",
       "<tr><td></td>\n",
       "<td>6</td>\n",
       "<td>0.1000098</td>\n",
       "<td>0.1718655</td>\n",
       "<td>2.6299352</td>\n",
       "<td>3.1932033</td>\n",
       "<td>0.2116074</td>\n",
       "<td>0.1973582</td>\n",
       "<td>0.2569286</td>\n",
       "<td>0.2562135</td>\n",
       "<td>0.1315096</td>\n",
       "<td>0.3193516</td>\n",
       "<td>162.9935229</td>\n",
       "<td>219.3203329</td></tr>\n",
       "<tr><td></td>\n",
       "<td>7</td>\n",
       "<td>0.1499984</td>\n",
       "<td>0.1398939</td>\n",
       "<td>2.0430195</td>\n",
       "<td>2.8098921</td>\n",
       "<td>0.1643836</td>\n",
       "<td>0.1545789</td>\n",
       "<td>0.2260870</td>\n",
       "<td>0.2223426</td>\n",
       "<td>0.1021277</td>\n",
       "<td>0.4214792</td>\n",
       "<td>104.3019528</td>\n",
       "<td>180.9892075</td></tr>\n",
       "<tr><td></td>\n",
       "<td>8</td>\n",
       "<td>0.2000033</td>\n",
       "<td>0.1179641</td>\n",
       "<td>1.6654906</td>\n",
       "<td>2.5237684</td>\n",
       "<td>0.1340072</td>\n",
       "<td>0.1283657</td>\n",
       "<td>0.2030651</td>\n",
       "<td>0.1988465</td>\n",
       "<td>0.0832827</td>\n",
       "<td>0.5047619</td>\n",
       "<td>66.5490569</td>\n",
       "<td>152.3768376</td></tr>\n",
       "<tr><td></td>\n",
       "<td>9</td>\n",
       "<td>0.2999967</td>\n",
       "<td>0.0893528</td>\n",
       "<td>1.2645202</td>\n",
       "<td>2.1040418</td>\n",
       "<td>0.1017447</td>\n",
       "<td>0.1025277</td>\n",
       "<td>0.1692935</td>\n",
       "<td>0.1667420</td>\n",
       "<td>0.1264438</td>\n",
       "<td>0.6312057</td>\n",
       "<td>26.4520158</td>\n",
       "<td>110.4041782</td></tr>\n",
       "<tr><td></td>\n",
       "<td>10</td>\n",
       "<td>0.4000065</td>\n",
       "<td>0.0699413</td>\n",
       "<td>1.0637257</td>\n",
       "<td>1.8439416</td>\n",
       "<td>0.0855885</td>\n",
       "<td>0.0791586</td>\n",
       "<td>0.1483655</td>\n",
       "<td>0.1448444</td>\n",
       "<td>0.1063830</td>\n",
       "<td>0.7375887</td>\n",
       "<td>6.3725728</td>\n",
       "<td>84.3941567</td></tr>\n",
       "<tr><td></td>\n",
       "<td>11</td>\n",
       "<td>0.5</td>\n",
       "<td>0.0557976</td>\n",
       "<td>0.8166693</td>\n",
       "<td>1.6385005</td>\n",
       "<td>0.0657101</td>\n",
       "<td>0.0626097</td>\n",
       "<td>0.1318355</td>\n",
       "<td>0.1283985</td>\n",
       "<td>0.0816616</td>\n",
       "<td>0.8192503</td>\n",
       "<td>-18.3330731</td>\n",
       "<td>63.8500507</td></tr>\n",
       "<tr><td></td>\n",
       "<td>12</td>\n",
       "<td>0.5999935</td>\n",
       "<td>0.0446792</td>\n",
       "<td>0.5897041</td>\n",
       "<td>1.4637106</td>\n",
       "<td>0.0474482</td>\n",
       "<td>0.0500583</td>\n",
       "<td>0.1177717</td>\n",
       "<td>0.1153425</td>\n",
       "<td>0.0589666</td>\n",
       "<td>0.8782168</td>\n",
       "<td>-41.0295888</td>\n",
       "<td>46.3710607</td></tr>\n",
       "<tr><td></td>\n",
       "<td>13</td>\n",
       "<td>0.7000033</td>\n",
       "<td>0.0353111</td>\n",
       "<td>0.4538563</td>\n",
       "<td>1.3194323</td>\n",
       "<td>0.0365178</td>\n",
       "<td>0.0398762</td>\n",
       "<td>0.1061629</td>\n",
       "<td>0.1045606</td>\n",
       "<td>0.0453901</td>\n",
       "<td>0.9236069</td>\n",
       "<td>-54.6143689</td>\n",
       "<td>31.9432267</td></tr>\n",
       "<tr><td></td>\n",
       "<td>14</td>\n",
       "<td>0.7999967</td>\n",
       "<td>0.0267581</td>\n",
       "<td>0.3445007</td>\n",
       "<td>1.1975733</td>\n",
       "<td>0.0277189</td>\n",
       "<td>0.0310069</td>\n",
       "<td>0.0963580</td>\n",
       "<td>0.0953669</td>\n",
       "<td>0.0344478</td>\n",
       "<td>0.9580547</td>\n",
       "<td>-65.5499316</td>\n",
       "<td>19.7573270</td></tr>\n",
       "<tr><td></td>\n",
       "<td>15</td>\n",
       "<td>0.8999902</td>\n",
       "<td>0.0186477</td>\n",
       "<td>0.2695211</td>\n",
       "<td>1.0944620</td>\n",
       "<td>0.0216860</td>\n",
       "<td>0.0227302</td>\n",
       "<td>0.0880616</td>\n",
       "<td>0.0872966</td>\n",
       "<td>0.0269504</td>\n",
       "<td>0.9850051</td>\n",
       "<td>-73.0478877</td>\n",
       "<td>9.4461969</td></tr>\n",
       "<tr><td></td>\n",
       "<td>16</td>\n",
       "<td>1.0</td>\n",
       "<td>0.0015212</td>\n",
       "<td>0.1499347</td>\n",
       "<td>1.0</td>\n",
       "<td>0.0120639</td>\n",
       "<td>0.0133136</td>\n",
       "<td>0.0804611</td>\n",
       "<td>0.0798976</td>\n",
       "<td>0.0149949</td>\n",
       "<td>1.0</td>\n",
       "<td>-85.0065326</td>\n",
       "<td>0.0</td></tr></table></div>"
      ],
      "text/plain": [
       "    group    cumulative_data_fraction    lower_threshold    lift      cumulative_lift    response_rate    score      cumulative_response_rate    cumulative_score    capture_rate    cumulative_capture_rate    gain      cumulative_gain\n",
       "--  -------  --------------------------  -----------------  --------  -----------------  ---------------  ---------  --------------------------  ------------------  --------------  -------------------------  --------  -----------------\n",
       "    1        0.0100108                   0.367416           4.83775   4.83775            0.389251         0.442332   0.389251                    0.442332            0.0484296       0.0484296                  383.775   383.775\n",
       "    2        0.0200052                   0.312326           4.25768   4.54795            0.342577         0.337434   0.365933                    0.389926            0.0425532       0.0909828                  325.768   354.795\n",
       "    3        0.0299997                   0.276312           3.50752   4.20133            0.282219         0.293222   0.338043                    0.357708            0.0350557       0.126039                   250.752   320.133\n",
       "    4        0.0400104                   0.25028            3.29939   3.97566            0.265472         0.262607   0.319886                    0.333914            0.0330294       0.159068                   229.939   297.566\n",
       "    5        0.0500049                   0.230045           2.879     3.75647            0.231648         0.239628   0.30225                     0.315069            0.0287741       0.187842                   187.9     275.647\n",
       "    6        0.10001                     0.171865           2.62994   3.1932             0.211607         0.197358   0.256929                    0.256213            0.13151         0.319352                   162.994   219.32\n",
       "    7        0.149998                    0.139894           2.04302   2.80989            0.164384         0.154579   0.226087                    0.222343            0.102128        0.421479                   104.302   180.989\n",
       "    8        0.200003                    0.117964           1.66549   2.52377            0.134007         0.128366   0.203065                    0.198847            0.0832827       0.504762                   66.5491   152.377\n",
       "    9        0.299997                    0.0893528          1.26452   2.10404            0.101745         0.102528   0.169293                    0.166742            0.126444        0.631206                   26.452    110.404\n",
       "    10       0.400007                    0.0699413          1.06373   1.84394            0.0855885        0.0791586  0.148366                    0.144844            0.106383        0.737589                   6.37257   84.3942\n",
       "    11       0.5                         0.0557976          0.816669  1.6385             0.0657101        0.0626097  0.131836                    0.128399            0.0816616       0.81925                    -18.3331  63.8501\n",
       "    12       0.599993                    0.0446792          0.589704  1.46371            0.0474482        0.0500583  0.117772                    0.115343            0.0589666       0.878217                   -41.0296  46.3711\n",
       "    13       0.700003                    0.0353111          0.453856  1.31943            0.0365178        0.0398762  0.106163                    0.104561            0.0453901       0.923607                   -54.6144  31.9432\n",
       "    14       0.799997                    0.0267581          0.344501  1.19757            0.0277189        0.0310069  0.096358                    0.0953669           0.0344478       0.958055                   -65.5499  19.7573\n",
       "    15       0.89999                     0.0186477          0.269521  1.09446            0.021686         0.0227302  0.0880616                   0.0872966           0.0269504       0.985005                   -73.0479  9.4462\n",
       "    16       1                           0.00152125         0.149935  1                  0.0120639        0.0133136  0.0804611                   0.0798976           0.0149949       1                          -85.0065  0"
      ]
     },
     "metadata": {},
     "output_type": "display_data"
    },
    {
     "name": "stdout",
     "output_type": "stream",
     "text": [
      "\n"
     ]
    },
    {
     "data": {
      "text/plain": []
     },
     "execution_count": 66,
     "metadata": {},
     "output_type": "execute_result"
    }
   ],
   "source": [
    "glm.model_performance(Data_test)"
   ]
  },
  {
   "cell_type": "code",
   "execution_count": 67,
   "metadata": {
    "scrolled": true
   },
   "outputs": [
    {
     "name": "stdout",
     "output_type": "stream",
     "text": [
      "glm prediction progress: |████████████████████████████████████████████████| 100%\n"
     ]
    },
    {
     "data": {
      "text/html": [
       "<table>\n",
       "<thead>\n",
       "<tr><th style=\"text-align: right;\">  predict</th><th style=\"text-align: right;\">      p0</th><th style=\"text-align: right;\">       p1</th></tr>\n",
       "</thead>\n",
       "<tbody>\n",
       "<tr><td style=\"text-align: right;\">        0</td><td style=\"text-align: right;\">0.938286</td><td style=\"text-align: right;\">0.0617141</td></tr>\n",
       "<tr><td style=\"text-align: right;\">        0</td><td style=\"text-align: right;\">0.959751</td><td style=\"text-align: right;\">0.0402494</td></tr>\n",
       "<tr><td style=\"text-align: right;\">        0</td><td style=\"text-align: right;\">0.957754</td><td style=\"text-align: right;\">0.0422459</td></tr>\n",
       "<tr><td style=\"text-align: right;\">        0</td><td style=\"text-align: right;\">0.94881 </td><td style=\"text-align: right;\">0.0511901</td></tr>\n",
       "<tr><td style=\"text-align: right;\">        0</td><td style=\"text-align: right;\">0.977474</td><td style=\"text-align: right;\">0.022526 </td></tr>\n",
       "<tr><td style=\"text-align: right;\">        0</td><td style=\"text-align: right;\">0.950043</td><td style=\"text-align: right;\">0.0499567</td></tr>\n",
       "<tr><td style=\"text-align: right;\">        0</td><td style=\"text-align: right;\">0.887903</td><td style=\"text-align: right;\">0.112097 </td></tr>\n",
       "<tr><td style=\"text-align: right;\">        0</td><td style=\"text-align: right;\">0.883503</td><td style=\"text-align: right;\">0.116497 </td></tr>\n",
       "<tr><td style=\"text-align: right;\">        1</td><td style=\"text-align: right;\">0.833227</td><td style=\"text-align: right;\">0.166773 </td></tr>\n",
       "<tr><td style=\"text-align: right;\">        0</td><td style=\"text-align: right;\">0.924311</td><td style=\"text-align: right;\">0.0756892</td></tr>\n",
       "</tbody>\n",
       "</table>"
      ]
     },
     "metadata": {},
     "output_type": "display_data"
    },
    {
     "data": {
      "text/plain": []
     },
     "execution_count": 67,
     "metadata": {},
     "output_type": "execute_result"
    }
   ],
   "source": [
    "predictions = glm.predict(Data_test)\n",
    "predictions"
   ]
  },
  {
   "cell_type": "code",
   "execution_count": 68,
   "metadata": {},
   "outputs": [
    {
     "data": {
      "text/plain": [
       "[('AMT_CREDIT', 0.8093024861922805),\n",
       " ('AMT_INCOME_TOTAL', 0.415512977662461),\n",
       " ('CODE_GENDER', 0.15139299208275217),\n",
       " ('ANNUITY_INCOME', 0.1413245421303834),\n",
       " ('FLAG_DOCUMENT_3', 0.10646390104890355),\n",
       " ('REGION_RATING_CLIENT_W_CITY', 0.09304868085977545),\n",
       " ('NAME_EDUCATION_TYPE_Secondary / secondary special', 0.0749199372191264),\n",
       " ('FLAG_WORK_PHONE', 0.06254991270246987),\n",
       " ('REG_CITY_NOT_LIVE_CITY', 0.05684825955296352),\n",
       " ('ORGANIZATION_TYPE_Self-employed', 0.05566175179129994),\n",
       " ('FLAG_DOCUMENT_6', 0.04865835956982361),\n",
       " ('NAME_INCOME_TYPE_Working', 0.04362905471563334),\n",
       " ('HOUSETYPE_MODE_block of flats', 0.03762053751751361),\n",
       " ('OCCUPATION_TYPE_Laborers', 0.035749886663815046),\n",
       " ('OCCUPATION_TYPE_Drivers', 0.035613508931775534),\n",
       " ('ORGANIZATION_TYPE_Business Entity Type 3', 0.03415287379140934),\n",
       " ('ORGANIZATION_TYPE_Construction', 0.033477463058629905),\n",
       " ('ORGANIZATION_TYPE_Transport: type 3', 0.03245290387947703),\n",
       " ('EMERGENCYSTATE_MODE', 0.031082020931497686),\n",
       " ('NAME_EDUCATION_TYPE_Lower secondary', 0.02909038335612897),\n",
       " ('NAME_TYPE_SUITE_Unaccompanied', 0.027184565718147747),\n",
       " ('OBS_30_CNT_SOCIAL_CIRCLE', 0.025341646326001697),\n",
       " ('LIVE_CITY_NOT_WORK_CITY', 0.021817058839009074),\n",
       " ('FLAG_OWN_REALTY', 0.020721159598561308),\n",
       " ('NAME_INCOME_TYPE_Unemployed', 0.019924356700720503),\n",
       " ('ORGANIZATION_TYPE_Trade: type 7', 0.01820018766129277),\n",
       " ('OCCUPATION_TYPE_Security staff', 0.017230509339197918),\n",
       " ('FLAG_DOCUMENT_2', 0.017072317365991768),\n",
       " ('OCCUPATION_TYPE_Low-skill Laborers', 0.016929278068837206),\n",
       " ('HOUSETYPE_MODE_specific housing', 0.01616170630777141),\n",
       " ('ORGANIZATION_TYPE_Trade: type 3', 0.0160965613749747),\n",
       " ('FLAG_DOCUMENT_8', 0.013876001146819255),\n",
       " ('FLAG_DOCUMENT_9', 0.012713743464506223),\n",
       " ('ORGANIZATION_TYPE_Transport: type 4', 0.011862502799942134),\n",
       " ('NAME_INCOME_TYPE_Maternity leave', 0.01123655055442207),\n",
       " ('NAME_TYPE_SUITE_Family', 0.011229041586326562),\n",
       " ('OCCUPATION_TYPE_Cooking staff', 0.011135182268383946),\n",
       " ('WEEKDAY_APPR_PROCESS_START_TUESDAY', 0.009992519548402905),\n",
       " ('REGION_POPULATION_RELATIVE', 0.009937585418273501),\n",
       " ('ORGANIZATION_TYPE_Restaurant', 0.008352586686827411),\n",
       " ('OCCUPATION_TYPE_Cleaning staff', 0.007971405940852069),\n",
       " ('NAME_TYPE_SUITE_Other_B', 0.0071663114617973415),\n",
       " ('OCCUPATION_TYPE_Managers', 0.007148945103815263),\n",
       " ('ORGANIZATION_TYPE_Agriculture', 0.006747316335059944),\n",
       " ('OCCUPATION_TYPE_Waiters/barmen staff', 0.0065575138691928965),\n",
       " ('ORGANIZATION_TYPE_Industry: type 1', 0.006445204249928604),\n",
       " ('FLAG_DOCUMENT_21', 0.0056630584505347956),\n",
       " ('CNT_FAM_MEMBERS', 0.0037722084315626246),\n",
       " ('ORGANIZATION_TYPE_Industry: type 3', 0.003285435299564355),\n",
       " ('ORGANIZATION_TYPE_Industry: type 4', 0.002995743358596903),\n",
       " ('FLAG_EMP_PHONE', 0.0),\n",
       " ('NAME_INCOME_TYPE_Commercial associate', 0.0),\n",
       " ('NAME_INCOME_TYPE_State servant', 0.0),\n",
       " ('ORGANIZATION_TYPE_Insurance', 0.0),\n",
       " ('ORGANIZATION_TYPE_Medicine', 0.0),\n",
       " ('ORGANIZATION_TYPE_Other', 0.0),\n",
       " ('ORGANIZATION_TYPE_Services', 0.0),\n",
       " ('FONDKAPREMONT_MODE_reg oper account', 0.0),\n",
       " ('WALLSMATERIAL_MODE_Wooden', 0.0),\n",
       " ('EMPLOY_AGE', 0.0),\n",
       " ('NAME_FAMILY_STATUS_Civil marriage', -0.0031700942897439155),\n",
       " ('REG_REGION_NOT_WORK_REGION', -0.003347349783069436),\n",
       " ('OCCUPATION_TYPE_Sales staff', -0.003958872406769658),\n",
       " ('NAME_HOUSING_TYPE_Rented apartment', -0.00496584522947428),\n",
       " ('ORGANIZATION_TYPE_XNA', -0.006863569825024401),\n",
       " ('ORGANIZATION_TYPE_Security', -0.007720863843508676),\n",
       " ('WALLSMATERIAL_MODE_Stone, brick', -0.010452122949062784),\n",
       " ('HOUR_APPR_PROCESS_START', -0.010931157559260874),\n",
       " ('ORGANIZATION_TYPE_Government', -0.011313483663384695),\n",
       " ('NAME_FAMILY_STATUS_Single / not married', -0.011395801468152228),\n",
       " ('FONDKAPREMONT_MODE_org spec account', -0.01194968431893752),\n",
       " ('WALLSMATERIAL_MODE_Block', -0.012684449121889407),\n",
       " ('OCCUPATION_TYPE_Private service staff', -0.012731555994555933),\n",
       " ('ORGANIZATION_TYPE_Kindergarten', -0.01303797981304406),\n",
       " ('WALLSMATERIAL_MODE_Monolithic', -0.014303637813176747),\n",
       " ('WEEKDAY_APPR_PROCESS_START_MONDAY', -0.01449499959139941),\n",
       " ('ORGANIZATION_TYPE_Trade: type 6', -0.01491587110157749),\n",
       " ('REG_REGION_NOT_LIVE_REGION', -0.015914162219551973),\n",
       " ('FONDKAPREMONT_MODE_reg oper spec account', -0.016445975797357567),\n",
       " ('NAME_HOUSING_TYPE_With parents', -0.016693878369183145),\n",
       " ('ORGANIZATION_TYPE_University', -0.01674061781930619),\n",
       " ('OCCUPATION_TYPE_Core staff', -0.018215964439875203),\n",
       " ('OCCUPATION_TYPE_Medicine staff', -0.018522914050137337),\n",
       " ('FLAG_DOCUMENT_11', -0.019028375086283963),\n",
       " ('OCCUPATION_TYPE_High skill tech staff', -0.019856460537273423),\n",
       " ('ORGANIZATION_TYPE_Bank', -0.02135767848426379),\n",
       " ('ORGANIZATION_TYPE_Security Ministries', -0.02180056984823008),\n",
       " ('ORGANIZATION_TYPE_Police', -0.022097004298653435),\n",
       " ('FLAG_DOCUMENT_15', -0.023340029891654995),\n",
       " ('OCCUPATION_TYPE_Accountants', -0.02345922002232699),\n",
       " ('ORGANIZATION_TYPE_Industry: type 12', -0.02419156048651894),\n",
       " ('ORGANIZATION_TYPE_Industry: type 9', -0.025658888765206625),\n",
       " ('ORGANIZATION_TYPE_School', -0.02832726181035364),\n",
       " ('NAME_INCOME_TYPE_Pensioner', -0.028336480616426782),\n",
       " ('DAYS_REGISTRATION', -0.028989419379909103),\n",
       " ('NAME_HOUSING_TYPE_House / apartment', -0.02907075620197757),\n",
       " ('NAME_HOUSING_TYPE_Office apartment', -0.029742119507773855),\n",
       " ('NAME_FAMILY_STATUS_Widow', -0.02977040582187552),\n",
       " ('REGION_RATING_CLIENT', -0.03279225845184081),\n",
       " ('FLAG_PHONE', -0.03458172503886611),\n",
       " ('FLAG_DOCUMENT_14', -0.03479442943938955),\n",
       " ('NAME_EDUCATION_TYPE_Academic degree', -0.035549395991454256),\n",
       " ('ORGANIZATION_TYPE_Military', -0.03592452515160194),\n",
       " ('REG_CITY_NOT_WORK_CITY', -0.03955782230338664),\n",
       " ('NAME_EDUCATION_TYPE_Higher education', -0.045822710362149986),\n",
       " ('FLAG_DOCUMENT_18', -0.04597537544857729),\n",
       " ('FLAG_DOCUMENT_13', -0.049893936452819664),\n",
       " ('FLAG_DOCUMENT_16', -0.052491619126307225),\n",
       " ('NAME_CONTRACT_TYPE', -0.0538353809834725),\n",
       " ('DAYS_LAST_PHONE_CHANGE', -0.05643359400140099),\n",
       " ('DAYS_ID_PUBLISH', -0.058347542744937385),\n",
       " ('WALLSMATERIAL_MODE_Panel', -0.06641647164777355),\n",
       " ('NAME_FAMILY_STATUS_Married', -0.08007886338662425),\n",
       " ('ANNUITY_CREDIT', -0.08276002335367273),\n",
       " ('DAYS_BIRTH', -0.08668506216033002),\n",
       " ('FLAG_OWN_CAR', -0.11330926338850451),\n",
       " ('CREDIT_AGE', -0.11585790575017568),\n",
       " ('DAYS_EMPLOYED', -0.13077571318386783),\n",
       " ('EXT_SOURCE_1', -0.153798412386509),\n",
       " ('INCOME_AGE', -0.280801041700597),\n",
       " ('EXT_SOURCE_2', -0.3873347397791895),\n",
       " ('EXT_SOURCE_3', -0.479002219492287),\n",
       " ('AMT_GOODS_PRICE', -0.8290157095787138),\n",
       " ('Intercept', -2.784428863370326)]"
      ]
     },
     "execution_count": 68,
     "metadata": {},
     "output_type": "execute_result"
    }
   ],
   "source": [
    "sorted(glm.coef_norm().items(), key=lambda x:\n",
    "x[1], reverse=True)"
   ]
  }
 ],
 "metadata": {
  "kernelspec": {
   "display_name": "Python 3",
   "language": "python",
   "name": "python3"
  },
  "language_info": {
   "codemirror_mode": {
    "name": "ipython",
    "version": 3
   },
   "file_extension": ".py",
   "mimetype": "text/x-python",
   "name": "python",
   "nbconvert_exporter": "python",
   "pygments_lexer": "ipython3",
   "version": "3.6.8"
  }
 },
 "nbformat": 4,
 "nbformat_minor": 2
}
